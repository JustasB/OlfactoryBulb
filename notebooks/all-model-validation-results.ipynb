{
 "cells": [
  {
   "cell_type": "markdown",
   "metadata": {},
   "source": [
    "# Compile MOD files\n",
    "\n",
    "Before validating cell models, compile their channel .mod files by running:\n",
    "\n",
    "`./compile_mod.sh`\n",
    "\n",
    "from the \n",
    "\n",
    "`[repo]/prev_ob_models` directory"
   ]
  },
  {
   "cell_type": "markdown",
   "metadata": {},
   "source": [
    "# Imports"
   ]
  },
  {
   "cell_type": "code",
   "execution_count": 2,
   "metadata": {},
   "outputs": [
    {
     "name": "stderr",
     "output_type": "stream",
     "text": [
      "/home/justas/anaconda2/envs/p27/lib/python2.7/site-packages/h5py/__init__.py:36: FutureWarning: Conversion of the second argument of issubdtype from `float` to `np.floating` is deprecated. In future, it will be treated as `np.float64 == np.dtype(float).type`.\n",
      "  from ._conv import register_converters as _register_converters\n"
     ]
    },
    {
     "name": "stdout",
     "output_type": "stream",
     "text": [
      "Could not load NEURONBackend\n"
     ]
    }
   ],
   "source": [
    "import os; os.chdir('..')\n",
    "import multiprocessing\n",
    "from prev_ob_models.Birgiolas2020.fitting import *\n",
    "import pandas as pd\n",
    "from multiprocessing import Pool, Process, Queue"
   ]
  },
  {
   "cell_type": "markdown",
   "metadata": {},
   "source": [
    "# Define the list of isolated cell models to validate"
   ]
  },
  {
   "cell_type": "code",
   "execution_count": 2,
   "metadata": {},
   "outputs": [],
   "source": [
    "# MC\n",
    "mcs = [\n",
    "    'prev_ob_models.BhallaBower1993.isolated_cells.MC',\n",
    "    'prev_ob_models.Chen2002.isolated_cells.MC',\n",
    "    'prev_ob_models.David2008.isolated_cells.MC',\n",
    "    'prev_ob_models.Davison2000.isolated_cells.MC',\n",
    "    'prev_ob_models.Djurisic2008.isolated_cells.MC',\n",
    "    'prev_ob_models.KaplanLansner2014.isolated_cells.MC',\n",
    "    'prev_ob_models.LiCleland2013.isolated_cells.MC',\n",
    "    'prev_ob_models.McTavish2012.isolated_cells.MC',\n",
    "    'prev_ob_models.Migliore2005GJs.isolated_cells.MC',\n",
    "    'prev_ob_models.Migliore2007columns.isolated_cells.MC',\n",
    "    'prev_ob_models.Migliore2008microcircuits.isolated_cells.MC',\n",
    "    'prev_ob_models.Migliore2014bulb3d.isolated_cells.MC',\n",
    "    'prev_ob_models.Migliore2015operators.isolated_cells.MC',\n",
    "    'prev_ob_models.MiglioreMcTavish2013.isolated_cells.MC',\n",
    "    'prev_ob_models.Oconnor2012.isolated_cells.MC1',\n",
    "    'prev_ob_models.Oconnor2012.isolated_cells.MC2',\n",
    "    'prev_ob_models.Oconnor2012.isolated_cells.MC3',\n",
    "    'prev_ob_models.Oconnor2012.isolated_cells.MC4',\n",
    "    'prev_ob_models.Oconnor2012.isolated_cells.MC5',\n",
    "    'prev_ob_models.Oconnor2012.isolated_cells.MC6',\n",
    "    'prev_ob_models.RubinCleland2006.isolated_cells.MC',\n",
    "    'prev_ob_models.Saghatelyan2005.isolated_cells.MC',\n",
    "    'prev_ob_models.Shen1999.isolated_cells.MC',\n",
    "    'prev_ob_models.Short2016.isolated_cells.MC',\n",
    "    'prev_ob_models.Yu2012.isolated_cells.MC',\n",
    "    'prev_ob_models.Birgiolas2020.isolated_cells.MC1',\n",
    "    'prev_ob_models.Birgiolas2020.isolated_cells.MC2',\n",
    "    'prev_ob_models.Birgiolas2020.isolated_cells.MC3',\n",
    "    'prev_ob_models.Birgiolas2020.isolated_cells.MC4',\n",
    "    'prev_ob_models.Birgiolas2020.isolated_cells.MC5',\n",
    "]\n",
    "\n",
    "#TC\n",
    "tcs = [\n",
    "    'prev_ob_models.Birgiolas2020.isolated_cells.TC1',\n",
    "    'prev_ob_models.Birgiolas2020.isolated_cells.TC2',\n",
    "    'prev_ob_models.Birgiolas2020.isolated_cells.TC3',\n",
    "    'prev_ob_models.Birgiolas2020.isolated_cells.TC4',\n",
    "    'prev_ob_models.Birgiolas2020.isolated_cells.TC5',\n",
    "]\n",
    "\n",
    "#GC\n",
    "gcs = [\n",
    "    'prev_ob_models.Davison2003.isolated_cells.GC',\n",
    "    'prev_ob_models.KaplanLansner2014.isolated_cells.GC',\n",
    "    'prev_ob_models.LiCleland2013.isolated_cells.GC',\n",
    "    'prev_ob_models.McTavish2012.isolated_cells.GC',\n",
    "    'prev_ob_models.Migliore2008microcircuits.isolated_cells.GC',\n",
    "    'prev_ob_models.Migliore2014bulb3d.isolated_cells.GC',\n",
    "    'prev_ob_models.Migliore2015operators.isolated_cells.GC',\n",
    "    'prev_ob_models.MiglioreMcTavish2013.isolated_cells.GC',\n",
    "    'prev_ob_models.Saghatelyan2005.isolated_cells.GC',\n",
    "    'prev_ob_models.Short2016.isolated_cells.GC',\n",
    "    'prev_ob_models.Yu2012.isolated_cells.GC',\n",
    "    'prev_ob_models.Birgiolas2020.isolated_cells.GC1',\n",
    "    'prev_ob_models.Birgiolas2020.isolated_cells.GC2',\n",
    "    'prev_ob_models.Birgiolas2020.isolated_cells.GC3',\n",
    "    'prev_ob_models.Birgiolas2020.isolated_cells.GC4',\n",
    "    'prev_ob_models.Birgiolas2020.isolated_cells.GC5'\n",
    "]\n",
    "\n",
    "debug = [\n",
    "    'prev_ob_models.Davison2003.isolated_cells.GC',\n",
    "]"
   ]
  },
  {
   "cell_type": "markdown",
   "metadata": {},
   "source": [
    "# Use the CellFitter class to compute validation scores"
   ]
  },
  {
   "cell_type": "code",
   "execution_count": 3,
   "metadata": {},
   "outputs": [],
   "source": [
    "def score(q, type, model, clear_fitter_cache):\n",
    "    fitter = CellFitter(cell_type=type, fitting_model_class=model)\n",
    "    \n",
    "    if clear_fitter_cache:\n",
    "        fitter.clear_cache()\n",
    "        \n",
    "    fitter.best = []\n",
    "    df, score = fitter.get_best_score()\n",
    "    \n",
    "    print(\"%s SCORE: %s\"%(fitter.fitting_model_class, score[\"model_score\"]))\n",
    "    print(df.transpose())\n",
    "    \n",
    "    q.put([df, score])"
   ]
  },
  {
   "cell_type": "markdown",
   "metadata": {},
   "source": [
    "# In separate processes, run the validation suite against each model\n",
    "\n",
    "We're using separate processes to ensure a fresh NEURON instance for each model"
   ]
  },
  {
   "cell_type": "code",
   "execution_count": 4,
   "metadata": {},
   "outputs": [],
   "source": [
    "# type: one of 'tc', 'gc', or 'mc'\n",
    "# array of isolated cell class names e.g. ['prev_ob_models.Chen2002.isolated_cells.MC']\n",
    "def build_report(type, models, clear_fitter_cache=False):    \n",
    "    results = []\n",
    "    \n",
    "    for model in models:\n",
    "        q = Queue()\n",
    "        p = Process(target=score, args=(q, type, model, clear_fitter_cache))\n",
    "        p.start()\n",
    "        results.append(q.get())\n",
    "        p.join()\n",
    "        \n",
    "        print('---------------------------------------------------------------')\n",
    "    \n",
    "    report = pd.concat([result[0] for result in results]).transpose()\n",
    "\n",
    "    csv_file = 'all_%s_model_validation_results.csv'%type\n",
    "    report.to_csv(csv_file)\n",
    "    print('Saved report to: %s'%os.path.abspath(csv_file))\n",
    "    \n",
    "    return report"
   ]
  },
  {
   "cell_type": "markdown",
   "metadata": {},
   "source": [
    "# Build the validation results report\n",
    "\n",
    "Path to the CSV file with the results is printed after all models have been validated"
   ]
  },
  {
   "cell_type": "code",
   "execution_count": null,
   "metadata": {},
   "outputs": [],
   "source": [
    "#build_report('tc', debug, clear_fitter_cache=True)"
   ]
  },
  {
   "cell_type": "code",
   "execution_count": 7,
   "metadata": {},
   "outputs": [],
   "source": [
    "build_report('gc', gcs, clear_fitter_cache=True)"
   ]
  },
  {
   "cell_type": "code",
   "execution_count": null,
   "metadata": {
    "scrolled": true
   },
   "outputs": [],
   "source": [
    "build_report('mc', mcs, clear_fitter_cache=False)"
   ]
  },
  {
   "cell_type": "code",
   "execution_count": null,
   "metadata": {},
   "outputs": [],
   "source": [
    "build_report('tc', tcs, clear_fitter_cache=False)"
   ]
  }
 ],
 "metadata": {
  "kernelspec": {
   "display_name": "Python 2",
   "language": "python",
   "name": "python2"
  },
  "language_info": {
   "codemirror_mode": {
    "name": "ipython",
    "version": 2
   },
   "file_extension": ".py",
   "mimetype": "text/x-python",
   "name": "python",
   "nbconvert_exporter": "python",
   "pygments_lexer": "ipython2",
   "version": "2.7.14"
  },
  "varInspector": {
   "cols": {
    "lenName": 16,
    "lenType": 16,
    "lenVar": 40
   },
   "kernels_config": {
    "python": {
     "delete_cmd_postfix": "",
     "delete_cmd_prefix": "del ",
     "library": "var_list.py",
     "varRefreshCmd": "print(var_dic_list())"
    },
    "r": {
     "delete_cmd_postfix": ") ",
     "delete_cmd_prefix": "rm(",
     "library": "var_list.r",
     "varRefreshCmd": "cat(var_dic_list()) "
    }
   },
   "types_to_exclude": [
    "module",
    "function",
    "builtin_function_or_method",
    "instance",
    "_Feature"
   ],
   "window_display": false
  }
 },
 "nbformat": 4,
 "nbformat_minor": 2
}
