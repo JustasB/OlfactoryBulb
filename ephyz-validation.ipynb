{
 "cells": [
  {
   "cell_type": "code",
   "execution_count": 1,
   "metadata": {
    "scrolled": true
   },
   "outputs": [
    {
     "name": "stdout",
     "output_type": "stream",
     "text": [
      "('Temporarily changing directory to', '/home/justas/Repositories/OlfactoryBulb/prev_ob_models/Yu2012')\n",
      "('Restoring working dir to', '/home/justas/Repositories/OlfactoryBulb')\n"
     ]
    }
   ],
   "source": [
    "from prev_ob_models.BhallaBower1993.isolated_cells import MC\n",
    "from prev_ob_models.Chen2002.isolated_cells import MC\n",
    "from prev_ob_models.David2008.isolated_cells import MC\n",
    "from prev_ob_models.Davison2000.isolated_cells import MC\n",
    "from prev_ob_models.Davison2003.isolated_cells import GC as MC\n",
    "from prev_ob_models.Djurisic2008.isolated_cells import MC\n",
    "from prev_ob_models.KaplanLansner2014.isolated_cells import MC\n",
    "from prev_ob_models.KaplanLansner2014.isolated_cells import GC\n",
    "from prev_ob_models.LiCleland2013.isolated_cells import MC\n",
    "from prev_ob_models.LiCleland2013.isolated_cells import GC\n",
    "from prev_ob_models.McTavish2012.isolated_cells import MC\n",
    "from prev_ob_models.McTavish2012.isolated_cells import GC\n",
    "from prev_ob_models.Migliore2005GJs.isolated_cells import MC\n",
    "from prev_ob_models.Migliore2007columns.isolated_cells import MC\n",
    "from prev_ob_models.Migliore2008microcircuits.isolated_cells import GC\n",
    "from prev_ob_models.Migliore2008microcircuits.isolated_cells import MC\n",
    "from prev_ob_models.Migliore2014bulb3d.isolated_cells import GC\n",
    "from prev_ob_models.Migliore2014bulb3d.isolated_cells import MC\n",
    "from prev_ob_models.Migliore2015operators.isolated_cells import GC\n",
    "from prev_ob_models.Migliore2015operators.isolated_cells import MC\n",
    "from prev_ob_models.MiglioreMcTavish2013.isolated_cells import GC\n",
    "from prev_ob_models.MiglioreMcTavish2013.isolated_cells import MC\n",
    "\n",
    "from prev_ob_models.Oconnor2012.isolated_cells import MC1 as MC\n",
    "from prev_ob_models.Oconnor2012.isolated_cells import MC2 as MC\n",
    "from prev_ob_models.Oconnor2012.isolated_cells import MC3 as MC\n",
    "from prev_ob_models.Oconnor2012.isolated_cells import MC4 as MC\n",
    "from prev_ob_models.Oconnor2012.isolated_cells import MC5 as MC\n",
    "from prev_ob_models.Oconnor2012.isolated_cells import MC6 as MC\n",
    "\n",
    "from prev_ob_models.OnaJodar2017.isolated_cells import GC1 as GC\n",
    "from prev_ob_models.OnaJodar2017.isolated_cells import GC2 as GC\n",
    "from prev_ob_models.OnaJodar2017.isolated_cells import GC3 as GC\n",
    "from prev_ob_models.OnaJodar2017.isolated_cells import GC4 as GC\n",
    "\n",
    "from prev_ob_models.Popovic2005.isolated_cells import MC\n",
    "from prev_ob_models.RubinCleland2006.isolated_cells import MC\n",
    "\n",
    "from prev_ob_models.Saghatelyan2005.isolated_cells import GC\n",
    "from prev_ob_models.Saghatelyan2005.isolated_cells import MC\n",
    "\n",
    "\n",
    "from prev_ob_models.Shen1999.isolated_cells import MC\n",
    "\n",
    "from prev_ob_models.Short2016.isolated_cells import MC\n",
    "from prev_ob_models.Short2016.isolated_cells import GC\n",
    "from prev_ob_models.Short2016.isolated_cells import ETC\n",
    "from prev_ob_models.Short2016.isolated_cells import PGC\n",
    "\n",
    "from prev_ob_models.Yu2012.isolated_cells import MC\n",
    "from prev_ob_models.Yu2012.isolated_cells import GC\n",
    "\n",
    "cell = GC()\n",
    "#cell = MC()"
   ]
  },
  {
   "cell_type": "code",
   "execution_count": 2,
   "metadata": {},
   "outputs": [
    {
     "name": "stdout",
     "output_type": "stream",
     "text": [
      "Could not load NEURONBackend\n"
     ]
    }
   ],
   "source": [
    "from olfactorybulb.database import *\n",
    "import os,sys\n",
    "from neuronunit.tests.olfactory_bulb.publications import *\n",
    "from neuronunit.tests.olfactory_bulb.tests import *\n",
    "from neuronunit.models.neuron_cell import NeuronCellModel\n",
    "from sciunit.suites import TestSuite\n",
    "from pandas import DataFrame\n",
    "import quantities as pq"
   ]
  },
  {
   "cell_type": "code",
   "execution_count": 3,
   "metadata": {},
   "outputs": [],
   "source": [
    "model = NeuronCellModel(cell.soma(0.5),name=\"Test Model\")"
   ]
  },
  {
   "cell_type": "code",
   "execution_count": 4,
   "metadata": {},
   "outputs": [],
   "source": [
    "from neuronunit.tests.olfactory_bulb.utilities import cache\n",
    "#cache.clear()"
   ]
  },
  {
   "cell_type": "code",
   "execution_count": 5,
   "metadata": {},
   "outputs": [],
   "source": [
    "\n",
    "class Test(BurtonUrban2015, SpikeThresholdTest):\n",
    "    pass\n",
    "\n",
    "test = Test().generate_prediction(model)"
   ]
  },
  {
   "cell_type": "code",
   "execution_count": 8,
   "metadata": {},
   "outputs": [
    {
     "data": {
      "text/plain": [
       "array([-19.67150024]) * mV"
      ]
     },
     "execution_count": 8,
     "metadata": {},
     "output_type": "execute_result"
    }
   ],
   "source": [
    "test"
   ]
  },
  {
   "cell_type": "code",
   "execution_count": 6,
   "metadata": {},
   "outputs": [],
   "source": [
    "#rb = RheobaseTestBurtonUrban2014().generate_prediction(model)\n",
    "rb = 0.02438785 * pq.nA"
   ]
  },
  {
   "cell_type": "code",
   "execution_count": 7,
   "metadata": {},
   "outputs": [
    {
     "ename": "NameError",
     "evalue": "name 'SpikeAccommodationTimeConstantTestZibman2011' is not defined",
     "output_type": "error",
     "traceback": [
      "\u001b[0;31m---------------------------------------------------------------------------\u001b[0m",
      "\u001b[0;31mNameError\u001b[0m                                 Traceback (most recent call last)",
      "\u001b[0;32m<ipython-input-7-ef82af3c2543>\u001b[0m in \u001b[0;36m<module>\u001b[0;34m()\u001b[0m\n\u001b[0;32m----> 1\u001b[0;31m \u001b[0mSpikeAccommodationTimeConstantTestZibman2011\u001b[0m\u001b[0;34m(\u001b[0m\u001b[0mrb\u001b[0m\u001b[0;34m)\u001b[0m\u001b[0;34m.\u001b[0m\u001b[0mgenerate_prediction\u001b[0m\u001b[0;34m(\u001b[0m\u001b[0mmodel\u001b[0m\u001b[0;34m)\u001b[0m\u001b[0;34m\u001b[0m\u001b[0m\n\u001b[0m",
      "\u001b[0;31mNameError\u001b[0m: name 'SpikeAccommodationTimeConstantTestZibman2011' is not defined"
     ]
    }
   ],
   "source": [
    "SpikeAccommodationTimeConstantTestZibman2011(rb).generate_prediction(model)"
   ]
  },
  {
   "cell_type": "code",
   "execution_count": null,
   "metadata": {},
   "outputs": [],
   "source": [
    "SpikeAccommodationTestBurtonUrban2014(rb).generate_prediction(model)"
   ]
  },
  {
   "cell_type": "code",
   "execution_count": null,
   "metadata": {},
   "outputs": [],
   "source": [
    "ISICVTestBurtonUrban2014(rb).generate_prediction(model)"
   ]
  },
  {
   "cell_type": "code",
   "execution_count": null,
   "metadata": {},
   "outputs": [],
   "source": [
    "rb = RheobaseTestYu2015().generate_prediction(model)"
   ]
  },
  {
   "cell_type": "code",
   "execution_count": null,
   "metadata": {},
   "outputs": [],
   "source": [
    "ISICVTestYu2015(rb).generate_prediction(model)"
   ]
  },
  {
   "cell_type": "code",
   "execution_count": null,
   "metadata": {},
   "outputs": [],
   "source": [
    "0/0"
   ]
  },
  {
   "cell_type": "code",
   "execution_count": null,
   "metadata": {},
   "outputs": [],
   "source": [
    "ReboundSpikingTestBurtonUrban2014().generate_prediction(model)"
   ]
  },
  {
   "cell_type": "code",
   "execution_count": null,
   "metadata": {},
   "outputs": [],
   "source": [
    "ReboundSpikingTestJohnsonDelaney2010().generate_prediction(model)"
   ]
  },
  {
   "cell_type": "code",
   "execution_count": null,
   "metadata": {},
   "outputs": [],
   "source": [
    "rb = RheobaseTestBurtonUrban2014().generate_prediction(model)\n",
    "rb"
   ]
  },
  {
   "cell_type": "code",
   "execution_count": null,
   "metadata": {},
   "outputs": [],
   "source": [
    "voltage = model.inject_square_current({\"delay\": 1000*pq.ms,\"duration\": 2000*pq.ms, \"amplitude\": rb})"
   ]
  },
  {
   "cell_type": "code",
   "execution_count": null,
   "metadata": {},
   "outputs": [],
   "source": [
    "plt.plot(voltage)"
   ]
  },
  {
   "cell_type": "code",
   "execution_count": null,
   "metadata": {},
   "outputs": [],
   "source": [
    "voltage.magnitude[np.where(voltage.times > 1000*pq.ms)]"
   ]
  },
  {
   "cell_type": "code",
   "execution_count": null,
   "metadata": {},
   "outputs": [],
   "source": [
    "rb = 0.02438782 * pq.nA"
   ]
  },
  {
   "cell_type": "code",
   "execution_count": null,
   "metadata": {},
   "outputs": [],
   "source": [
    "# %matplotlib notebook\n",
    "# %matplotlib notebook\n",
    "# %matplotlib notebook\n",
    "# %matplotlib notebook"
   ]
  },
  {
   "cell_type": "code",
   "execution_count": null,
   "metadata": {},
   "outputs": [],
   "source": [
    "rb = RheobaseTestYu2015().generate_prediction(model)\n",
    "rb"
   ]
  },
  {
   "cell_type": "code",
   "execution_count": null,
   "metadata": {},
   "outputs": [],
   "source": [
    "SagVoltageTestAngelo2012().generate_prediction(model)\n",
    "SagVoltageTestBurtonUrban2014().generate_prediction(model)\n",
    "SagVoltageTestYu2015().generate_prediction(model)\n",
    "SagVoltageTestHu2016().generate_prediction(model)"
   ]
  },
  {
   "cell_type": "code",
   "execution_count": null,
   "metadata": {},
   "outputs": [],
   "source": [
    "AfterHyperpolarizationAmplitudeTestYu2015(rb).generate_prediction(model)"
   ]
  },
  {
   "cell_type": "code",
   "execution_count": null,
   "metadata": {},
   "outputs": [],
   "source": [
    "AfterHyperpolarizationTimeTestYu2015(rb).generate_prediction(model)"
   ]
  },
  {
   "cell_type": "code",
   "execution_count": null,
   "metadata": {},
   "outputs": [],
   "source": [
    "AfterHyperpolarizationAmplitudeTestBurtonUrban2014(rb).generate_prediction(model)"
   ]
  },
  {
   "cell_type": "code",
   "execution_count": null,
   "metadata": {},
   "outputs": [],
   "source": [
    "AfterHyperpolarizationTimeTestBurtonUrban2014(rb).generate_prediction(model)"
   ]
  },
  {
   "cell_type": "code",
   "execution_count": null,
   "metadata": {},
   "outputs": [],
   "source": [
    "1/0"
   ]
  },
  {
   "cell_type": "code",
   "execution_count": null,
   "metadata": {},
   "outputs": [],
   "source": [
    "from matplotlib import pyplot as plt\n",
    "import numpy as np\n",
    "\n",
    "v = aps[0]\n",
    "plt.plot(v[\"voltage\"])\n",
    "#plt.plot(v3_z[0:get_zero_crossings(v3_z)[0]+1])\n",
    "#plt.xlim((0,80))\n",
    "plt.show()"
   ]
  },
  {
   "cell_type": "code",
   "execution_count": null,
   "metadata": {},
   "outputs": [],
   "source": [
    "test1 = SagVoltageTestAngelo2012(observation={\"mean\":0*pq.mV, 'std':1*pq.mV,'n': 10})\n",
    "test2 = SagVoltageTestBurtonUrban2014(observation={\"mean\":0*pq.mV, 'std':1*pq.mV,'n': 10})\n",
    "test3 = SagVoltageTestYu2015(observation={\"mean\":0*pq.mV, 'std':1*pq.mV,'n': 10})\n",
    "test4 = SagVoltageTestHu2016(observation={\"mean\":0*pq.mV, 'std':1*pq.mV,'n': 10})\n",
    "\n",
    "#suite = test1 \n",
    "suite = TestSuite(tests=[test1,test2,test3,test4])"
   ]
  },
  {
   "cell_type": "code",
   "execution_count": null,
   "metadata": {},
   "outputs": [],
   "source": [
    "suite.judge(model)"
   ]
  },
  {
   "cell_type": "code",
   "execution_count": null,
   "metadata": {},
   "outputs": [],
   "source": []
  }
 ],
 "metadata": {
  "kernelspec": {
   "display_name": "Python 2",
   "language": "python",
   "name": "python2"
  },
  "language_info": {
   "codemirror_mode": {
    "name": "ipython",
    "version": 2
   },
   "file_extension": ".py",
   "mimetype": "text/x-python",
   "name": "python",
   "nbconvert_exporter": "python",
   "pygments_lexer": "ipython2",
   "version": "2.7.14"
  }
 },
 "nbformat": 4,
 "nbformat_minor": 1
}
