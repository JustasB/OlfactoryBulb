{
 "cells": [
  {
   "cell_type": "code",
   "execution_count": 1,
   "metadata": {},
   "outputs": [
    {
     "name": "stderr",
     "output_type": "stream",
     "text": [
      "/home/justas/anaconda2/envs/p27/lib/python2.7/site-packages/h5py/__init__.py:36: FutureWarning: Conversion of the second argument of issubdtype from `float` to `np.floating` is deprecated. In future, it will be treated as `np.float64 == np.dtype(float).type`.\n",
      "  from ._conv import register_converters as _register_converters\n"
     ]
    },
    {
     "name": "stdout",
     "output_type": "stream",
     "text": [
      "Could not load NEURONBackend\n"
     ]
    }
   ],
   "source": [
    "from olfactorybulb.database import *\n",
    "import os,sys\n",
    "from neuronunit.tests.olfactory_bulb.publications import *\n",
    "from neuronunit.tests.olfactory_bulb.tests import *\n",
    "from neuronunit.models.neuron_cell import NeuronCellModel\n",
    "from sciunit.suites import TestSuite\n",
    "from pandas import DataFrame\n",
    "import quantities as pq\n",
    "from neuronunit.tests.olfactory_bulb.utilities import cache\n",
    "from linetimer import CodeTimer\n",
    "import string"
   ]
  },
  {
   "cell_type": "code",
   "execution_count": 7,
   "metadata": {},
   "outputs": [
    {
     "name": "stdout",
     "output_type": "stream",
     "text": [
      "creating specific test class: SpikeAmplitudeTestBurtonUrban2015\n",
      "creating specific test class: SpikeHalfWidthTestBurtonUrban2015\n",
      "creating specific test class: SpikeThresholdTestBurtonUrban2015\n",
      "creating specific test class: CellCapacitanceTestBurtonUrban2015\n",
      "creating specific test class: FISlopeTestBurtonUrban2015\n",
      "creating specific test class: InputResistanceTestBurtonUrban2015\n",
      "creating specific test class: InputResistanceTestStroh2012\n",
      "creating specific test class: RestingVoltageTestBurtonUrban2015\n",
      "creating specific test class: RestingVoltageTestStroh2012\n",
      "creating specific test class: RheobaseTestBurtonUrban2015\n",
      "creating specific test class: SagVoltageTestHu2016\n",
      "creating specific test class: MembraneTimeConstantTestBurtonUrban2015\n",
      "from prev_ob_models.Davison2003.isolated_cells import GC as Model0\n",
      "from prev_ob_models.KaplanLansner2014.isolated_cells import GC as Model1\n",
      "from prev_ob_models.LiCleland2013.isolated_cells import GC as Model2\n",
      "from prev_ob_models.McTavish2012.isolated_cells import GC as Model3\n",
      "from prev_ob_models.Migliore2008microcircuits.isolated_cells import GC as Model4\n",
      "from prev_ob_models.Migliore2014bulb3d.isolated_cells import GC as Model5\n",
      "from prev_ob_models.Migliore2015operators.isolated_cells import GC as Model6\n",
      "from prev_ob_models.MiglioreMcTavish2013.isolated_cells import GC as Model7\n",
      "from prev_ob_models.Saghatelyan2005.isolated_cells import GC as Model8\n",
      "from prev_ob_models.Short2016.isolated_cells import GC as Model9\n",
      "from prev_ob_models.Yu2012.isolated_cells import GC as Model10\n"
     ]
    }
   ],
   "source": [
    "cell_type = 'gc'\n",
    "\n",
    "# Load tests\n",
    "measurements = Measurement\\\n",
    "    .select(Measurement)\\\n",
    "    .join(Property)\\\n",
    "    .switch(Measurement)\\\n",
    "    .join(Source)\\\n",
    "    .where((Measurement.property.type == \"Electrophysiology\") & (Measurement.property.id.startswith(cell_type+'_')))\\\n",
    "    .order_by(Measurement.property.id)\n",
    "\n",
    "properties = {}\n",
    "\n",
    "for m in measurements:\n",
    "    test_generic = str(m.property.test_class_generic)\n",
    "    pub = str(m.source.publication_class).strip()\n",
    "    class_name = test_generic+pub\n",
    "    \n",
    "    if test_generic not in properties:\n",
    "        properties[test_generic] = []\n",
    "    \n",
    "    globals()[class_name] = type(class_name, \n",
    "                                 (eval(pub), eval(test_generic)), \n",
    "                                 {})\n",
    "    \n",
    "    print('creating specific test class: ' + class_name)\n",
    "    \n",
    "    test_instance = eval(class_name)(observation={\"mean\": m.mean * eval(m.property.units), \"std\": m.std * eval(m.property.units), \"n\": m.n})\n",
    "    \n",
    "    properties[test_generic].append(test_instance)\n",
    "    \n",
    "    \n",
    "# Load model classes\n",
    "model_classes = list(CellModel\\\n",
    "                    .select(CellModel)\\\n",
    "                    .where(CellModel.cell_type == cell_type.upper())             \n",
    "                     )\n",
    "for i, m in enumerate(model_classes):\n",
    "    nmsp = string.join(m.isolated_model_class.split('.')[:-1],'.')\n",
    "    cls = m.isolated_model_class.split('.')[-1]\n",
    "\n",
    "    import_cmd = 'from '+nmsp+' import '+cls+' as Model'+str(i)\n",
    "    print(import_cmd)\n",
    "    exec(import_cmd)\n",
    "    \n",
    "# Create work item list\n",
    "work_items = []\n",
    "\n",
    "for model in model_classes:\n",
    "    work_items.append({\"model_class\": model.isolated_model_class })\n",
    "        \n",
    "def dowork(item):\n",
    "    results = item\n",
    "    results[\"properties\"] = {}\n",
    "    \n",
    "    import prev_ob_models\n",
    "    exec('cell = '+ str(item[\"model_class\"]) +'()')\n",
    "\n",
    "    model = NeuronCellModel(cell.soma(0.5),name=cell.__class__.__module__+'.'+cell.__class__.__name__)\n",
    "\n",
    "\n",
    "    for prop in properties.keys():\n",
    "        \n",
    "        if prop not in results[\"properties\"]:\n",
    "            results[\"properties\"][prop] = { \"tests\": {}, \"total_n\": 0, \"z_score_combined\": None}\n",
    "        \n",
    "        tests = properties[prop]\n",
    "        \n",
    "        for test in tests:\n",
    "            \n",
    "            results[\"properties\"][prop][\"tests\"][test.__class__.__name__] = {}\n",
    "            \n",
    "            try:\n",
    "                print('Starting', item, test)\n",
    "                result = test.generate_prediction(model)\n",
    "                print('Finished', item, test, result)\n",
    "\n",
    "            except:\n",
    "                import traceback\n",
    "                result = traceback.format_exc()\n",
    "                print(result)\n",
    "                \n",
    "            results[\"properties\"][prop][\"tests\"][test.__class__.__name__][\"observation\"] = test.observation\n",
    "            results[\"properties\"][prop][\"tests\"][test.__class__.__name__][\"prediction\"] = result\n",
    "            \n",
    "            if type(result) != str:\n",
    "                z_score = (result - test.observation[\"mean\"])/test.observation[\"std\"]\n",
    "            else:\n",
    "                z_score = 6.0 # errors are treated as 6 std deviation\n",
    "                \n",
    "            z_weighed = z_score * test.observation[\"n\"]\n",
    "\n",
    "            results[\"properties\"][prop][\"tests\"][test.__class__.__name__][\"z_score\"] = z_score\n",
    "            results[\"properties\"][prop][\"tests\"][test.__class__.__name__][\"z_score_weighed\"] = z_weighed\n",
    "            results[\"properties\"][prop][\"total_n\"] += test.observation[\"n\"]\n",
    "            \n",
    "        results[\"properties\"][prop][\"z_score_combined\"] = sum([i[\"z_score_weighed\"] for i in results[\"properties\"][prop][\"tests\"].values()])\n",
    "        results[\"properties\"][prop][\"z_score_combined\"] /= results[\"properties\"][prop][\"total_n\"]\n",
    "\n",
    "    return results\n"
   ]
  },
  {
   "cell_type": "code",
   "execution_count": null,
   "metadata": {},
   "outputs": [
    {
     "name": "stdout",
     "output_type": "stream",
     "text": [
      "\t1 \n",
      "\t0 \n",
      "\t1001 \n",
      "\t0 \n",
      "\t0 \n",
      "\t0 \n",
      "\t0 \n",
      "\t0 \n",
      "\t0 \n",
      "\t0 \n",
      "\t0 \n",
      "\t0 \n",
      "\t0 \n",
      "\t0 \n",
      "\t0 \n",
      "\t0 \n",
      "\t0 \n",
      "('Starting', {'model_class': u'prev_ob_models.Davison2003.isolated_cells.GC', 'properties': {'SpikeThresholdTest': {'tests': {'SpikeThresholdTestBurtonUrban2015': {}}, 'z_score_combined': None, 'total_n': 0}}}, <__main__.SpikeThresholdTestBurtonUrban2015 object at 0x7eff6b4764d0>)\n"
     ]
    },
    {
     "data": {
      "image/png": "[encoded data removed]",
      "text/plain": [
       "<Figure size 432x288 with 1 Axes>"
      ]
     },
     "metadata": {},
     "output_type": "display_data"
    },
    {
     "data": {
      "image/png": "[encoded data removed]",
      "text/plain": [
       "<Figure size 432x288 with 1 Axes>"
      ]
     },
     "metadata": {},
     "output_type": "display_data"
    },
    {
     "data": {
      "image/png": "[encoded data removed]",
      "text/plain": [
       "<Figure size 432x288 with 1 Axes>"
      ]
     },
     "metadata": {},
     "output_type": "display_data"
    }
   ],
   "source": [
    "dowork(work_items[0])"
   ]
  },
  {
   "cell_type": "code",
   "execution_count": 4,
   "metadata": {},
   "outputs": [
    {
     "ename": "TypeError",
     "evalue": "exceptions must be old-style classes or derived from BaseException, not NoneType",
     "output_type": "error",
     "traceback": [
      "\u001b[0;31m---------------------------------------------------------------------------\u001b[0m",
      "\u001b[0;31mTypeError\u001b[0m                                 Traceback (most recent call last)",
      "\u001b[0;32m<ipython-input-4-9c9a2cba73bf>\u001b[0m in \u001b[0;36m<module>\u001b[0;34m()\u001b[0m\n\u001b[0;32m----> 1\u001b[0;31m \u001b[0;32mraise\u001b[0m\u001b[0;34m\u001b[0m\u001b[0m\n\u001b[0m",
      "\u001b[0;31mTypeError\u001b[0m: exceptions must be old-style classes or derived from BaseException, not NoneType"
     ]
    }
   ],
   "source": [
    "raise"
   ]
  },
  {
   "cell_type": "code",
   "execution_count": null,
   "metadata": {
    "scrolled": true
   },
   "outputs": [],
   "source": [
    "# Run the tests\n",
    "processes = 15   \n",
    "from multiprocessing import Pool\n",
    "pool = Pool(processes = processes, maxtasksperchild=1)\n",
    "result = pool.map(dowork, work_items)\n",
    "pool.terminate()\n",
    "pool.join()\n",
    "result\n",
    "\n",
    "# Show result in a table\n",
    "df = []\n",
    "for model in result:\n",
    "    row = {\"model\": model[0]}\n",
    "    for t, test in enumerate(tests):\n",
    "        row[test.__class__.__name__] = model[1][t]\n",
    "    df.append(row)\n",
    "        \n",
    "df = DataFrame(df)\n",
    "df\n"
   ]
  },
  {
   "cell_type": "code",
   "execution_count": null,
   "metadata": {},
   "outputs": [],
   "source": [
    "result"
   ]
  },
  {
   "cell_type": "code",
   "execution_count": null,
   "metadata": {
    "scrolled": true
   },
   "outputs": [],
   "source": [
    "     \n",
    "        \n",
    "        "
   ]
  },
  {
   "cell_type": "code",
   "execution_count": null,
   "metadata": {},
   "outputs": [],
   "source": [
    "prop_test_instance.generate_prediction(model)"
   ]
  },
  {
   "cell_type": "code",
   "execution_count": null,
   "metadata": {},
   "outputs": [],
   "source": [
    "df.to_csv(cell_type+\"_model_ephyz_validation_results.csv\")"
   ]
  },
  {
   "cell_type": "code",
   "execution_count": null,
   "metadata": {},
   "outputs": [],
   "source": [
    "df_tests = []\n",
    "row = {\"model\": \"Observations\"}\n",
    "for t, test in enumerate(tests):\n",
    "    row[test.__class__.__name__ + \"_mean\"] = test.observation[\"mean\"]\n",
    "    row[test.__class__.__name__ + \"_std\"] = test.observation[\"std\"]\n",
    "    row[test.__class__.__name__ + \"_n\"] = test.observation[\"n\"]\n",
    "df_tests.append(row)\n",
    "        \n",
    "df_tests = DataFrame(df_tests)\n",
    "df_tests.to_csv(cell_type+\"_model_ephyz_observations.csv\")\n",
    "df_tests"
   ]
  },
  {
   "cell_type": "code",
   "execution_count": null,
   "metadata": {},
   "outputs": [],
   "source": [
    "raise Exception()"
   ]
  },
  {
   "cell_type": "code",
   "execution_count": null,
   "metadata": {
    "scrolled": false
   },
   "outputs": [],
   "source": [
    "cache.clear()\n",
    "i = 10 #Max: 10\n",
    "for item in [work_items[i]]:\n",
    "    dowork(item)\n",
    "\n",
    "print(\"FINISHED\")"
   ]
  },
  {
   "cell_type": "code",
   "execution_count": null,
   "metadata": {},
   "outputs": [],
   "source": [
    "raise Exception()"
   ]
  },
  {
   "cell_type": "code",
   "execution_count": null,
   "metadata": {
    "scrolled": true
   },
   "outputs": [],
   "source": [
    "cache.clear()\n",
    "import prev_ob_models\n",
    "cell = prev_ob_models.Saghatelyan2005.isolated_cells.GC()\n",
    "model = NeuronCellModel(cell.soma(0.5),name=cell.__class__.__module__+'.'+cell.__class__.__name__)\n",
    "RheobaseTestBurtonUrban2015().generate_prediction(model)"
   ]
  },
  {
   "cell_type": "code",
   "execution_count": null,
   "metadata": {},
   "outputs": [],
   "source": [
    "model = None\n",
    "cell = None\n",
    "raise Exception()"
   ]
  },
  {
   "cell_type": "code",
   "execution_count": null,
   "metadata": {},
   "outputs": [],
   "source": []
  },
  {
   "cell_type": "code",
   "execution_count": null,
   "metadata": {},
   "outputs": [],
   "source": [
    "for i, test in enumerate(tests):\n",
    "    #print(i, 'judging', test)\n",
    "    print(test.generate_prediction(model))\n",
    "    "
   ]
  },
  {
   "cell_type": "code",
   "execution_count": null,
   "metadata": {},
   "outputs": [],
   "source": [
    "test.observation"
   ]
  },
  {
   "cell_type": "code",
   "execution_count": null,
   "metadata": {},
   "outputs": [],
   "source": [
    "with CodeTimer():\n",
    "    TestSuite(tests).judge(model)"
   ]
  },
  {
   "cell_type": "code",
   "execution_count": null,
   "metadata": {},
   "outputs": [],
   "source": []
  },
  {
   "cell_type": "code",
   "execution_count": null,
   "metadata": {},
   "outputs": [],
   "source": [
    "from neuronunit.tests.olfactory_bulb.utilities import cache\n",
    "#cache.clear()"
   ]
  },
  {
   "cell_type": "code",
   "execution_count": null,
   "metadata": {},
   "outputs": [],
   "source": [
    "\n",
    "class Test(BurtonUrban2015, SpikeThresholdTest):\n",
    "    pass\n",
    "\n",
    "test = Test().generate_prediction(model)"
   ]
  },
  {
   "cell_type": "code",
   "execution_count": null,
   "metadata": {},
   "outputs": [],
   "source": [
    "test"
   ]
  },
  {
   "cell_type": "code",
   "execution_count": null,
   "metadata": {},
   "outputs": [],
   "source": [
    "#rb = RheobaseTestBurtonUrban2014().generate_prediction(model)\n",
    "rb = 0.02438785 * pq.nA"
   ]
  },
  {
   "cell_type": "code",
   "execution_count": null,
   "metadata": {},
   "outputs": [],
   "source": [
    "SpikeAccommodationTimeConstantTestZibman2011(rb).generate_prediction(model)"
   ]
  },
  {
   "cell_type": "code",
   "execution_count": null,
   "metadata": {},
   "outputs": [],
   "source": [
    "SpikeAccommodationTestBurtonUrban2014(rb).generate_prediction(model)"
   ]
  },
  {
   "cell_type": "code",
   "execution_count": null,
   "metadata": {},
   "outputs": [],
   "source": [
    "ISICVTestBurtonUrban2014(rb).generate_prediction(model)"
   ]
  },
  {
   "cell_type": "code",
   "execution_count": null,
   "metadata": {},
   "outputs": [],
   "source": [
    "rb = RheobaseTestYu2015().generate_prediction(model)"
   ]
  },
  {
   "cell_type": "code",
   "execution_count": null,
   "metadata": {},
   "outputs": [],
   "source": [
    "ISICVTestYu2015(rb).generate_prediction(model)"
   ]
  },
  {
   "cell_type": "code",
   "execution_count": null,
   "metadata": {},
   "outputs": [],
   "source": [
    "0/0"
   ]
  },
  {
   "cell_type": "code",
   "execution_count": null,
   "metadata": {},
   "outputs": [],
   "source": [
    "ReboundSpikingTestBurtonUrban2014().generate_prediction(model)"
   ]
  },
  {
   "cell_type": "code",
   "execution_count": null,
   "metadata": {},
   "outputs": [],
   "source": [
    "ReboundSpikingTestJohnsonDelaney2010().generate_prediction(model)"
   ]
  },
  {
   "cell_type": "code",
   "execution_count": null,
   "metadata": {},
   "outputs": [],
   "source": [
    "rb = RheobaseTestBurtonUrban2014().generate_prediction(model)\n",
    "rb"
   ]
  },
  {
   "cell_type": "code",
   "execution_count": null,
   "metadata": {},
   "outputs": [],
   "source": [
    "voltage = model.inject_square_current({\"delay\": 1000*pq.ms,\"duration\": 2000*pq.ms, \"amplitude\": rb})"
   ]
  },
  {
   "cell_type": "code",
   "execution_count": null,
   "metadata": {},
   "outputs": [],
   "source": [
    "plt.plot(voltage)"
   ]
  },
  {
   "cell_type": "code",
   "execution_count": null,
   "metadata": {},
   "outputs": [],
   "source": [
    "voltage.magnitude[np.where(voltage.times > 1000*pq.ms)]"
   ]
  },
  {
   "cell_type": "code",
   "execution_count": null,
   "metadata": {},
   "outputs": [],
   "source": [
    "rb = 0.02438782 * pq.nA"
   ]
  },
  {
   "cell_type": "code",
   "execution_count": null,
   "metadata": {},
   "outputs": [],
   "source": [
    "# %matplotlib notebook\n",
    "# %matplotlib notebook\n",
    "# %matplotlib notebook\n",
    "# %matplotlib notebook"
   ]
  },
  {
   "cell_type": "code",
   "execution_count": null,
   "metadata": {},
   "outputs": [],
   "source": [
    "rb = RheobaseTestYu2015().generate_prediction(model)\n",
    "rb"
   ]
  },
  {
   "cell_type": "code",
   "execution_count": null,
   "metadata": {},
   "outputs": [],
   "source": [
    "SagVoltageTestAngelo2012().generate_prediction(model)\n",
    "SagVoltageTestBurtonUrban2014().generate_prediction(model)\n",
    "SagVoltageTestYu2015().generate_prediction(model)\n",
    "SagVoltageTestHu2016().generate_prediction(model)"
   ]
  },
  {
   "cell_type": "code",
   "execution_count": null,
   "metadata": {},
   "outputs": [],
   "source": [
    "AfterHyperpolarizationAmplitudeTestYu2015(rb).generate_prediction(model)"
   ]
  },
  {
   "cell_type": "code",
   "execution_count": null,
   "metadata": {},
   "outputs": [],
   "source": [
    "AfterHyperpolarizationTimeTestYu2015(rb).generate_prediction(model)"
   ]
  },
  {
   "cell_type": "code",
   "execution_count": null,
   "metadata": {},
   "outputs": [],
   "source": [
    "AfterHyperpolarizationAmplitudeTestBurtonUrban2014(rb).generate_prediction(model)"
   ]
  },
  {
   "cell_type": "code",
   "execution_count": null,
   "metadata": {},
   "outputs": [],
   "source": [
    "AfterHyperpolarizationTimeTestBurtonUrban2014(rb).generate_prediction(model)"
   ]
  },
  {
   "cell_type": "code",
   "execution_count": null,
   "metadata": {},
   "outputs": [],
   "source": [
    "1/0"
   ]
  },
  {
   "cell_type": "code",
   "execution_count": null,
   "metadata": {},
   "outputs": [],
   "source": [
    "from matplotlib import pyplot as plt\n",
    "import numpy as np\n",
    "\n",
    "v = aps[0]\n",
    "plt.plot(v[\"voltage\"])\n",
    "#plt.plot(v3_z[0:get_zero_crossings(v3_z)[0]+1])\n",
    "#plt.xlim((0,80))\n",
    "plt.show()"
   ]
  },
  {
   "cell_type": "code",
   "execution_count": null,
   "metadata": {},
   "outputs": [],
   "source": [
    "test1 = SagVoltageTestAngelo2012(observation={\"mean\":0*pq.mV, 'std':1*pq.mV,'n': 10})\n",
    "test2 = SagVoltageTestBurtonUrban2014(observation={\"mean\":0*pq.mV, 'std':1*pq.mV,'n': 10})\n",
    "test3 = SagVoltageTestYu2015(observation={\"mean\":0*pq.mV, 'std':1*pq.mV,'n': 10})\n",
    "test4 = SagVoltageTestHu2016(observation={\"mean\":0*pq.mV, 'std':1*pq.mV,'n': 10})\n",
    "\n",
    "#suite = test1 \n",
    "suite = TestSuite(tests=[test1,test2,test3,test4])"
   ]
  },
  {
   "cell_type": "code",
   "execution_count": null,
   "metadata": {},
   "outputs": [],
   "source": [
    "suite.judge(model)"
   ]
  },
  {
   "cell_type": "code",
   "execution_count": null,
   "metadata": {},
   "outputs": [],
   "source": []
  }
 ],
 "metadata": {
  "kernelspec": {
   "display_name": "Python 2",
   "language": "python",
   "name": "python2"
  },
  "language_info": {
   "codemirror_mode": {
    "name": "ipython",
    "version": 2
   },
   "file_extension": ".py",
   "mimetype": "text/x-python",
   "name": "python",
   "nbconvert_exporter": "python",
   "pygments_lexer": "ipython2",
   "version": "2.7.14"
  }
 },
 "nbformat": 4,
 "nbformat_minor": 1
}
