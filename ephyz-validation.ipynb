{
 "cells": [
  {
   "cell_type": "code",
   "execution_count": 1,
   "metadata": {
    "scrolled": true
   },
   "outputs": [
    {
     "name": "stdout",
     "output_type": "stream",
     "text": [
      "('Temporarily changing directory to', '/home/justas/Repositories/OlfactoryBulb/prev_ob_models/Yu2012')\n",
      "('Restoring working dir to', '/home/justas/Repositories/OlfactoryBulb')\n"
     ]
    }
   ],
   "source": [
    "from prev_ob_models.BhallaBower1993.isolated_cells import MC\n",
    "from prev_ob_models.Chen2002.isolated_cells import MC\n",
    "from prev_ob_models.David2008.isolated_cells import MC\n",
    "from prev_ob_models.Davison2000.isolated_cells import MC\n",
    "from prev_ob_models.Davison2003.isolated_cells import GC as MC\n",
    "from prev_ob_models.Djurisic2008.isolated_cells import MC\n",
    "from prev_ob_models.KaplanLanster2014.isolated_cells import MC\n",
    "from prev_ob_models.KaplanLanster2014.isolated_cells import GC\n",
    "from prev_ob_models.LiCleland2013.isolated_cells import MC\n",
    "from prev_ob_models.LiCleland2013.isolated_cells import GC\n",
    "from prev_ob_models.McTavish2012.isolated_cells import MC\n",
    "from prev_ob_models.McTavish2012.isolated_cells import GC\n",
    "from prev_ob_models.Migliore2005GJs.isolated_cells import MC\n",
    "from prev_ob_models.Migliore2007columns.isolated_cells import MC\n",
    "from prev_ob_models.Migliore2008microcircuits.isolated_cells import GC\n",
    "from prev_ob_models.Migliore2008microcircuits.isolated_cells import MC\n",
    "from prev_ob_models.Migliore2014bulb3d.isolated_cells import GC\n",
    "from prev_ob_models.Migliore2014bulb3d.isolated_cells import MC\n",
    "from prev_ob_models.Migliore2015operators.isolated_cells import GC\n",
    "from prev_ob_models.Migliore2015operators.isolated_cells import MC\n",
    "from prev_ob_models.MiglioreMcTavish2013.isolated_cells import GC\n",
    "from prev_ob_models.MiglioreMcTavish2013.isolated_cells import MC\n",
    "\n",
    "from prev_ob_models.Oconnor2012.isolated_cells import MC1 as MC\n",
    "from prev_ob_models.Oconnor2012.isolated_cells import MC2 as MC\n",
    "from prev_ob_models.Oconnor2012.isolated_cells import MC3 as MC\n",
    "from prev_ob_models.Oconnor2012.isolated_cells import MC4 as MC\n",
    "from prev_ob_models.Oconnor2012.isolated_cells import MC5 as MC\n",
    "from prev_ob_models.Oconnor2012.isolated_cells import MC6 as MC\n",
    "\n",
    "from prev_ob_models.OnaJodar2017.isolated_cells import GC1 as GC\n",
    "from prev_ob_models.OnaJodar2017.isolated_cells import GC2 as GC\n",
    "from prev_ob_models.OnaJodar2017.isolated_cells import GC3 as GC\n",
    "from prev_ob_models.OnaJodar2017.isolated_cells import GC4 as GC\n",
    "\n",
    "from prev_ob_models.Popovic2005.isolated_cells import MC\n",
    "from prev_ob_models.RubinCleland2006.isolated_cells import MC\n",
    "\n",
    "from prev_ob_models.Saghatelyan2005.isolated_cells import GC\n",
    "from prev_ob_models.Saghatelyan2005.isolated_cells import MC\n",
    "\n",
    "\n",
    "from prev_ob_models.Shen1999.isolated_cells import MC\n",
    "\n",
    "from prev_ob_models.Short2016.isolated_cells import MC\n",
    "from prev_ob_models.Short2016.isolated_cells import GC\n",
    "from prev_ob_models.Short2016.isolated_cells import ETC\n",
    "from prev_ob_models.Short2016.isolated_cells import PGC\n",
    "\n",
    "from prev_ob_models.Yu2012.isolated_cells import MC\n",
    "from prev_ob_models.Yu2012.isolated_cells import GC\n",
    "\n",
    "cell = GC()\n",
    "#cell = MC()"
   ]
  },
  {
   "cell_type": "code",
   "execution_count": 2,
   "metadata": {},
   "outputs": [
    {
     "name": "stdout",
     "output_type": "stream",
     "text": [
      "Could not load NEURONBackend\n"
     ]
    }
   ],
   "source": [
    "from olfactorybulb.database import *\n",
    "import os,sys\n",
    "from neuronunit.tests.olfactory_bulb.publicationtests import *\n",
    "from neuronunit.models.neuron_cell import NeuronCellModel\n",
    "from sciunit.suites import TestSuite\n",
    "from pandas import DataFrame\n",
    "import quantities as pq"
   ]
  },
  {
   "cell_type": "code",
   "execution_count": 3,
   "metadata": {},
   "outputs": [],
   "source": [
    "model = NeuronCellModel(cell.soma(0.5),name=\"Test Model\")"
   ]
  },
  {
   "cell_type": "code",
   "execution_count": null,
   "metadata": {},
   "outputs": [],
   "source": []
  },
  {
   "cell_type": "code",
   "execution_count": 4,
   "metadata": {},
   "outputs": [],
   "source": [
    "#rb = RheobaseTestBurtonUrban2014().generate_prediction(model)\n",
    "rb = 0.02438785 * pq.nA"
   ]
  },
  {
   "cell_type": "code",
   "execution_count": 5,
   "metadata": {},
   "outputs": [
    {
     "name": "stderr",
     "output_type": "stream",
     "text": [
      "pydev debugger: warning: trying to add breakpoint to file that does not exist: /home/justas/Repositories/OlfactoryBulb/r:/neuronunit_justasb/neuronunit/models/backends/neuron.py (will have no effect)\n",
      "pydev debugger: warning: trying to add breakpoint to file that does not exist: /home/justas/Repositories/OlfactoryBulb/r:/neuronunit_justasb/neuronunit/unit_test/test_druckmann2013.py (will have no effect)\n"
     ]
    },
    {
     "name": "stdout",
     "output_type": "stream",
     "text": [
      "[[Model]]\n",
      "    Model(ifr_func)\n",
      "[[Fit Statistics]]\n",
      "    # fitting method   = leastsq\n",
      "    # function evals   = 17\n",
      "    # data points      = 9\n",
      "    # variables        = 3\n",
      "    chi-square         = 0.33369816\n",
      "    reduced chi-square = 0.05561636\n",
      "    Akaike info crit   = -23.6526868\n",
      "    Bayesian info crit = -23.0610130\n",
      "[[Variables]]\n",
      "    start:   30.4722337 +/- 0.22367237 (0.73%) (init = 30.30303)\n",
      "    finish:  17.0423383 +/- 0.14062990 (0.83%) (init = 17.31602)\n",
      "    tau:     79.9976714 +/- 3.62893919 (4.54%) (init = 10)\n",
      "[[Correlations]] (unreported correlations are < 0.100)\n",
      "    C(finish, tau)   = -0.701\n",
      "    C(start, tau)    = -0.477\n",
      "    C(start, finish) =  0.174\n",
      "\n"
     ]
    },
    {
     "data": {
      "image/png": "[encoded data removed]",
      "text/plain": [
       "<Figure size 432x288 with 1 Axes>"
      ]
     },
     "metadata": {},
     "output_type": "display_data"
    },
    {
     "name": "stderr",
     "output_type": "stream",
     "text": [
      "Could not find thread pid_9607_id_139984288911696\n",
      "Available: ['pid_10955_id_140013374652880', 'pid_10955_id_140013356502096', 'pid_10955_id_140013194339344', 'pid_10955_id_140011705458896', 'pid_10955_id_140013356502352', 'pid_10955_id_140011705460880', 'pid_10955_id_140013356423120', 'pid_10955_id_140011705461072', 'pid_10955_id_140011705459536', 'pid_10955_id_140012781035856']\n",
      "Could not find thread pid_9607_id_139985289295824\n",
      "Available: ['pid_10955_id_140013374652880', 'pid_10955_id_140013356502096', 'pid_10955_id_140013194339344', 'pid_10955_id_140011705458896', 'pid_10955_id_140013356502352', 'pid_10955_id_140011705460880', 'pid_10955_id_140013356423120', 'pid_10955_id_140011705461072', 'pid_10955_id_140011705459536', 'pid_10955_id_140012781035856']\n",
      "Could not find thread pid_9519_id_139814344705040\n",
      "Available: ['pid_10955_id_140013374652880', 'pid_10955_id_140013356502096', 'pid_10955_id_140013194339344', 'pid_10955_id_140011705458896', 'pid_10955_id_140013356502352', 'pid_10955_id_140011705460880', 'pid_10955_id_140013356423120', 'pid_10955_id_140011705461072', 'pid_10955_id_140011705459536', 'pid_10955_id_140012781035856']\n",
      "Could not find thread pid_10630_id_139738000222160\n",
      "Available: ['pid_10955_id_140013374652880', 'pid_10955_id_140013356502096', 'pid_10955_id_140013194339344', 'pid_10955_id_140011705458896', 'pid_10955_id_140013356502352', 'pid_10955_id_140011705460880', 'pid_10955_id_140013356423120', 'pid_10955_id_140011705461072', 'pid_10955_id_140011705459536', 'pid_10955_id_140012781035856']\n",
      "Could not find thread pid_9696_id_139931598499152\n",
      "Available: ['pid_10955_id_140013374652880', 'pid_10955_id_140013356502096', 'pid_10955_id_140013194339344', 'pid_10955_id_140011705458896', 'pid_10955_id_140013356502352', 'pid_10955_id_140011705460880', 'pid_10955_id_140013356423120', 'pid_10955_id_140011705461072', 'pid_10955_id_140011705459536', 'pid_10955_id_140012781035856']\n",
      "Could not find thread pid_10630_id_139738000301392\n",
      "Available: ['pid_10955_id_140013374652880', 'pid_10955_id_140013356502096', 'pid_10955_id_140013194339344', 'pid_10955_id_140011705458896', 'pid_10955_id_140013356502352', 'pid_10955_id_140011705460880', 'pid_10955_id_140013356423120', 'pid_10955_id_140011705461072', 'pid_10955_id_140011705459536', 'pid_10955_id_140012781035856']\n",
      "Could not find thread pid_9440_id_139994143292752\n",
      "Available: ['pid_10955_id_140013374652880', 'pid_10955_id_140013356502096', 'pid_10955_id_140013194339344', 'pid_10955_id_140011705458896', 'pid_10955_id_140013356502352', 'pid_10955_id_140011705460880', 'pid_10955_id_140013356423120', 'pid_10955_id_140011705461072', 'pid_10955_id_140011705459536', 'pid_10955_id_140012781035856']\n",
      "Could not find thread pid_10832_id_140510814856208\n",
      "Available: ['pid_10955_id_140013374652880', 'pid_10955_id_140013356502096', 'pid_10955_id_140013194339344', 'pid_10955_id_140011705458896', 'pid_10955_id_140013356502352', 'pid_10955_id_140011705460880', 'pid_10955_id_140013356423120', 'pid_10955_id_140011705461072', 'pid_10955_id_140011705459536', 'pid_10955_id_140012781035856']\n",
      "Could not find thread pid_9696_id_139931598498896\n",
      "Available: ['pid_10955_id_140013374652880', 'pid_10955_id_140013356502096', 'pid_10955_id_140013194339344', 'pid_10955_id_140011705458896', 'pid_10955_id_140013356502352', 'pid_10955_id_140011705460880', 'pid_10955_id_140013356423120', 'pid_10955_id_140011705461072', 'pid_10955_id_140011705459536', 'pid_10955_id_140012781035856']\n",
      "Could not find thread pid_9696_id_139931598419920\n",
      "Available: ['pid_10955_id_140013374652880', 'pid_10955_id_140013356502096', 'pid_10955_id_140013194339344', 'pid_10955_id_140011705458896', 'pid_10955_id_140013356502352', 'pid_10955_id_140011705460880', 'pid_10955_id_140013356423120', 'pid_10955_id_140011705461072', 'pid_10955_id_140011705459536', 'pid_10955_id_140012781035856']\n",
      "Could not find thread pid_10717_id_139979384537552\n",
      "Available: ['pid_10955_id_140013374652880', 'pid_10955_id_140013356502096', 'pid_10955_id_140013194339344', 'pid_10955_id_140011705458896', 'pid_10955_id_140013356502352', 'pid_10955_id_140011705460880', 'pid_10955_id_140013356423120', 'pid_10955_id_140011705461072', 'pid_10955_id_140011705459536', 'pid_10955_id_140012781035856']\n",
      "Could not find thread pid_10832_id_140510995169744\n",
      "Available: ['pid_10955_id_140013374652880', 'pid_10955_id_140013356502096', 'pid_10955_id_140013194339344', 'pid_10955_id_140011705458896', 'pid_10955_id_140013356502352', 'pid_10955_id_140011705460880', 'pid_10955_id_140013356423120', 'pid_10955_id_140011705461072', 'pid_10955_id_140011705459536', 'pid_10955_id_140012781035856']\n",
      "Could not find thread pid_9607_id_139985289374800\n",
      "Available: ['pid_10955_id_140013374652880', 'pid_10955_id_140013356502096', 'pid_10955_id_140013194339344', 'pid_10955_id_140011705458896', 'pid_10955_id_140013356502352', 'pid_10955_id_140011705460880', 'pid_10955_id_140013356423120', 'pid_10955_id_140011705461072', 'pid_10955_id_140011705459536', 'pid_10955_id_140012781035856']\n",
      "Could not find thread pid_9756_id_139988233743440\n",
      "Available: ['pid_10955_id_140013374652880', 'pid_10955_id_140013356502096', 'pid_10955_id_140013194339344', 'pid_10955_id_140011705458896', 'pid_10955_id_140013356502352', 'pid_10955_id_140011705460880', 'pid_10955_id_140013356423120', 'pid_10955_id_140011705461072', 'pid_10955_id_140011705459536', 'pid_10955_id_140012781035856']\n",
      "Could not find thread pid_9440_id_139993989522448\n",
      "Available: ['pid_10955_id_140013374652880', 'pid_10955_id_140013356502096', 'pid_10955_id_140013194339344', 'pid_10955_id_140011705458896', 'pid_10955_id_140013356502352', 'pid_10955_id_140011705460880', 'pid_10955_id_140013356423120', 'pid_10955_id_140011705461072', 'pid_10955_id_140011705459536', 'pid_10955_id_140012781035856']\n",
      "Could not find thread pid_9519_id_139814506788816\n",
      "Available: ['pid_10955_id_140013374652880', 'pid_10955_id_140013356502096', 'pid_10955_id_140013194339344', 'pid_10955_id_140011705458896', 'pid_10955_id_140013356502352', 'pid_10955_id_140011705460880', 'pid_10955_id_140013356423120', 'pid_10955_id_140011705461072', 'pid_10955_id_140011705459536', 'pid_10955_id_140012781035856']\n",
      "Could not find thread pid_9756_id_139988088366096\n",
      "Available: ['pid_10955_id_140013374652880', 'pid_10955_id_140013356502096', 'pid_10955_id_140013194339344', 'pid_10955_id_140011705458896', 'pid_10955_id_140013356502352', 'pid_10955_id_140011705460880', 'pid_10955_id_140013356423120', 'pid_10955_id_140011705461072', 'pid_10955_id_140011705459536', 'pid_10955_id_140012781035856']\n",
      "Could not find thread pid_10630_id_139737567949136\n",
      "Available: ['pid_10955_id_140013374652880', 'pid_10955_id_140013356502096', 'pid_10955_id_140013194339344', 'pid_10955_id_140011705458896', 'pid_10955_id_140013356502352', 'pid_10955_id_140011705460880', 'pid_10955_id_140013356423120', 'pid_10955_id_140011705461072', 'pid_10955_id_140011705459536', 'pid_10955_id_140012781035856']\n"
     ]
    },
    {
     "data": {
      "text/plain": [
       "array(79.99767138) * ms"
      ]
     },
     "execution_count": 5,
     "metadata": {},
     "output_type": "execute_result"
    },
    {
     "name": "stderr",
     "output_type": "stream",
     "text": [
      "Could not find thread pid_9607_id_139985289375056\n",
      "Available: ['pid_10955_id_140013374652880', 'pid_10955_id_140013356502096', 'pid_10955_id_140013194339344', 'pid_10955_id_140011705458896', 'pid_10955_id_140013356502352', 'pid_10955_id_140011705460880', 'pid_10955_id_140013356423120', 'pid_10955_id_140011705461072', 'pid_10955_id_140011705459536', 'pid_10955_id_140012781035856']\n",
      "Could not find thread pid_9696_id_139931444728848\n",
      "Available: ['pid_10955_id_140013374652880', 'pid_10955_id_140013356502096', 'pid_10955_id_140013194339344', 'pid_10955_id_140011705458896', 'pid_10955_id_140013356502352', 'pid_10955_id_140011705460880', 'pid_10955_id_140013356423120', 'pid_10955_id_140011705461072', 'pid_10955_id_140011705459536', 'pid_10955_id_140012781035856']\n",
      "Could not find thread pid_9519_id_139814506867792\n",
      "Available: ['pid_10955_id_140013374652880', 'pid_10955_id_140013356502096', 'pid_10955_id_140013194339344', 'pid_10955_id_140011705458896', 'pid_10955_id_140013356502352', 'pid_10955_id_140011705460880', 'pid_10955_id_140013356423120', 'pid_10955_id_140011705461072', 'pid_10955_id_140011705459536', 'pid_10955_id_140012781035856']\n",
      "Could not find thread pid_9756_id_139988251894224\n",
      "Available: ['pid_10955_id_140013374652880', 'pid_10955_id_140013356502096', 'pid_10955_id_140013194339344', 'pid_10955_id_140011705458896', 'pid_10955_id_140013356502352', 'pid_10955_id_140011705460880', 'pid_10955_id_140013356423120', 'pid_10955_id_140011705461072', 'pid_10955_id_140011705459536', 'pid_10955_id_140012781035856']\n",
      "Could not find thread pid_10832_id_140510977019216\n",
      "Available: ['pid_10955_id_140013374652880', 'pid_10955_id_140013356502096', 'pid_10955_id_140013194339344', 'pid_10955_id_140011705458896', 'pid_10955_id_140013356502352', 'pid_10955_id_140011705460880', 'pid_10955_id_140013356423120', 'pid_10955_id_140011705461072', 'pid_10955_id_140011705459536', 'pid_10955_id_140012781035856']\n",
      "Could not find thread pid_10832_id_140510976939984\n",
      "Available: ['pid_10955_id_140013374652880', 'pid_10955_id_140013356502096', 'pid_10955_id_140013194339344', 'pid_10955_id_140011705458896', 'pid_10955_id_140013356502352', 'pid_10955_id_140011705460880', 'pid_10955_id_140013356423120', 'pid_10955_id_140011705461072', 'pid_10955_id_140011705459536', 'pid_10955_id_140012781035856']\n",
      "Could not find thread pid_9519_id_139814506868048\n",
      "Available: ['pid_10955_id_140013374652880', 'pid_10955_id_140013356502096', 'pid_10955_id_140013194339344', 'pid_10955_id_140011705458896', 'pid_10955_id_140013356502352', 'pid_10955_id_140011705460880', 'pid_10955_id_140013356423120', 'pid_10955_id_140011705461072', 'pid_10955_id_140011705459536', 'pid_10955_id_140012781035856']\n",
      "Could not find thread pid_10717_id_139978756301136\n",
      "Available: ['pid_10955_id_140013374652880', 'pid_10955_id_140013356502096', 'pid_10955_id_140013194339344', 'pid_10955_id_140011705458896', 'pid_10955_id_140013356502352', 'pid_10955_id_140011705460880', 'pid_10955_id_140013356423120', 'pid_10955_id_140011705461072', 'pid_10955_id_140011705459536', 'pid_10955_id_140012781035856']\n",
      "Could not find thread pid_10717_id_139979366307792\n",
      "Available: ['pid_10955_id_140013374652880', 'pid_10955_id_140013356502096', 'pid_10955_id_140013194339344', 'pid_10955_id_140011705458896', 'pid_10955_id_140013356502352', 'pid_10955_id_140011705460880', 'pid_10955_id_140013356423120', 'pid_10955_id_140011705461072', 'pid_10955_id_140011705459536', 'pid_10955_id_140012781035856']\n",
      "Could not find thread pid_10832_id_140510977018960\n",
      "Available: ['pid_10955_id_140013374652880', 'pid_10955_id_140013356502096', 'pid_10955_id_140013194339344', 'pid_10955_id_140011705458896', 'pid_10955_id_140013356502352', 'pid_10955_id_140011705460880', 'pid_10955_id_140013356423120', 'pid_10955_id_140011705461072', 'pid_10955_id_140011705459536', 'pid_10955_id_140012781035856']\n",
      "Could not find thread pid_9756_id_139988233743696\n",
      "Available: ['pid_10955_id_140013374652880', 'pid_10955_id_140013356502096', 'pid_10955_id_140013194339344', 'pid_10955_id_140011705458896', 'pid_10955_id_140013356502352', 'pid_10955_id_140011705460880', 'pid_10955_id_140013356423120', 'pid_10955_id_140011705461072', 'pid_10955_id_140011705459536', 'pid_10955_id_140012781035856']\n",
      "Could not find thread pid_9607_id_139985135604752\n",
      "Available: ['pid_10955_id_140013374652880', 'pid_10955_id_140013356502096', 'pid_10955_id_140013194339344', 'pid_10955_id_140011705458896', 'pid_10955_id_140013356502352', 'pid_10955_id_140011705460880', 'pid_10955_id_140013356423120', 'pid_10955_id_140011705461072', 'pid_10955_id_140011705459536', 'pid_10955_id_140012781035856']\n",
      "Could not find thread pid_9696_id_139930597917008\n",
      "Available: ['pid_10955_id_140013374652880', 'pid_10955_id_140013356502096', 'pid_10955_id_140013194339344', 'pid_10955_id_140011705458896', 'pid_10955_id_140013356502352', 'pid_10955_id_140011705460880', 'pid_10955_id_140013356423120', 'pid_10955_id_140011705461072', 'pid_10955_id_140011705459536', 'pid_10955_id_140012781035856']\n",
      "Could not find thread pid_10630_id_139738018451920\n",
      "Available: ['pid_10955_id_140013374652880', 'pid_10955_id_140013356502096', 'pid_10955_id_140013194339344', 'pid_10955_id_140011705458896', 'pid_10955_id_140013356502352', 'pid_10955_id_140011705460880', 'pid_10955_id_140013356423120', 'pid_10955_id_140011705461072', 'pid_10955_id_140011705459536', 'pid_10955_id_140012781035856']\n"
     ]
    }
   ],
   "source": [
    "SpikeAccommodationTimeConstantTestZibman2011(rb).generate_prediction(model)"
   ]
  },
  {
   "cell_type": "code",
   "execution_count": 6,
   "metadata": {},
   "outputs": [
    {
     "name": "stderr",
     "output_type": "stream",
     "text": [
      "Could not find thread pid_9756_id_139988233664464\n",
      "Available: ['pid_10955_id_140013374652880', 'pid_10955_id_140013356502096', 'pid_10955_id_140013194339344', 'pid_10955_id_140011705458896', 'pid_10955_id_140013356502352', 'pid_10955_id_140011705460880', 'pid_10955_id_140013356423120', 'pid_10955_id_140011705461072', 'pid_10955_id_140011705459536', 'pid_10955_id_140012781035856']\n",
      "Could not find thread pid_10717_id_139979229402128\n",
      "Available: ['pid_10955_id_140013374652880', 'pid_10955_id_140013356502096', 'pid_10955_id_140013194339344', 'pid_10955_id_140011705458896', 'pid_10955_id_140013356502352', 'pid_10955_id_140011705460880', 'pid_10955_id_140013356423120', 'pid_10955_id_140011705461072', 'pid_10955_id_140011705459536', 'pid_10955_id_140012781035856']\n",
      "Could not find thread pid_10832_id_140509976543696\n",
      "Available: ['pid_10955_id_140013374652880', 'pid_10955_id_140013356502096', 'pid_10955_id_140013194339344', 'pid_10955_id_140011705458896', 'pid_10955_id_140013356502352', 'pid_10955_id_140011705460880', 'pid_10955_id_140013356423120', 'pid_10955_id_140011705461072', 'pid_10955_id_140011705459536', 'pid_10955_id_140012781035856']\n",
      "Could not find thread pid_9440_id_139994143292496\n",
      "Available: ['pid_10955_id_140013374652880', 'pid_10955_id_140013356502096', 'pid_10955_id_140013194339344', 'pid_10955_id_140011705458896', 'pid_10955_id_140013356502352', 'pid_10955_id_140011705460880', 'pid_10955_id_140013356423120', 'pid_10955_id_140011705461072', 'pid_10955_id_140011705459536', 'pid_10955_id_140012781035856']\n",
      "Could not find thread pid_9519_id_139813506310480\n",
      "Available: ['pid_10955_id_140013374652880', 'pid_10955_id_140013356502096', 'pid_10955_id_140013194339344', 'pid_10955_id_140011705458896', 'pid_10955_id_140013356502352', 'pid_10955_id_140011705460880', 'pid_10955_id_140013356423120', 'pid_10955_id_140011705461072', 'pid_10955_id_140011705459536', 'pid_10955_id_140012781035856']\n",
      "Could not find thread pid_9696_id_139931616649680\n",
      "Available: ['pid_10955_id_140013374652880', 'pid_10955_id_140013356502096', 'pid_10955_id_140013194339344', 'pid_10955_id_140011705458896', 'pid_10955_id_140013356502352', 'pid_10955_id_140011705460880', 'pid_10955_id_140013356423120', 'pid_10955_id_140011705461072', 'pid_10955_id_140011705459536', 'pid_10955_id_140012781035856']\n",
      "Could not find thread pid_10717_id_139979366387024\n",
      "Available: ['pid_10955_id_140013374652880', 'pid_10955_id_140013356502096', 'pid_10955_id_140013194339344', 'pid_10955_id_140011705458896', 'pid_10955_id_140013356502352', 'pid_10955_id_140011705460880', 'pid_10955_id_140013356423120', 'pid_10955_id_140011705461072', 'pid_10955_id_140011705459536', 'pid_10955_id_140012781035856']\n",
      "Could not find thread pid_9440_id_139993142841872\n",
      "Available: ['pid_10955_id_140013374652880', 'pid_10955_id_140013356502096', 'pid_10955_id_140013194339344', 'pid_10955_id_140011705458896', 'pid_10955_id_140013356502352', 'pid_10955_id_140011705460880', 'pid_10955_id_140013356423120', 'pid_10955_id_140011705461072', 'pid_10955_id_140011705459536', 'pid_10955_id_140012781035856']\n",
      "Could not find thread pid_9756_id_139987816071504\n",
      "Available: ['pid_10955_id_140013374652880', 'pid_10955_id_140013356502096', 'pid_10955_id_140013194339344', 'pid_10955_id_140011705458896', 'pid_10955_id_140013356502352', 'pid_10955_id_140011705460880', 'pid_10955_id_140013356423120', 'pid_10955_id_140011705461072', 'pid_10955_id_140011705459536', 'pid_10955_id_140012781035856']\n",
      "Could not find thread pid_9440_id_139994143213520\n",
      "Available: ['pid_10955_id_140013374652880', 'pid_10955_id_140013356502096', 'pid_10955_id_140013194339344', 'pid_10955_id_140011705458896', 'pid_10955_id_140013356502352', 'pid_10955_id_140011705460880', 'pid_10955_id_140013356423120', 'pid_10955_id_140011705461072', 'pid_10955_id_140011705459536', 'pid_10955_id_140012781035856']\n",
      "Could not find thread pid_10630_id_139737838138384\n",
      "Available: ['pid_10955_id_140013374652880', 'pid_10955_id_140013356502096', 'pid_10955_id_140013194339344', 'pid_10955_id_140011705458896', 'pid_10955_id_140013356502352', 'pid_10955_id_140011705460880', 'pid_10955_id_140013356423120', 'pid_10955_id_140011705461072', 'pid_10955_id_140011705459536', 'pid_10955_id_140012781035856']\n",
      "Could not find thread pid_10717_id_139979366386768\n",
      "Available: ['pid_10955_id_140013374652880', 'pid_10955_id_140013356502096', 'pid_10955_id_140013194339344', 'pid_10955_id_140011705458896', 'pid_10955_id_140013356502352', 'pid_10955_id_140011705460880', 'pid_10955_id_140013356423120', 'pid_10955_id_140011705461072', 'pid_10955_id_140011705459536', 'pid_10955_id_140012781035856']\n",
      "Could not find thread pid_10630_id_139738000301136\n",
      "Available: ['pid_10955_id_140013374652880', 'pid_10955_id_140013356502096', 'pid_10955_id_140013194339344', 'pid_10955_id_140011705458896', 'pid_10955_id_140013356502352', 'pid_10955_id_140011705460880', 'pid_10955_id_140013356423120', 'pid_10955_id_140011705461072', 'pid_10955_id_140011705459536', 'pid_10955_id_140012781035856']\n"
     ]
    },
    {
     "data": {
      "image/png": "[encoded data removed]",
      "text/plain": [
       "<Figure size 432x288 with 1 Axes>"
      ]
     },
     "metadata": {},
     "output_type": "display_data"
    },
    {
     "data": {
      "text/plain": [
       "array(-1.92696792) * Hz"
      ]
     },
     "execution_count": 6,
     "metadata": {},
     "output_type": "execute_result"
    }
   ],
   "source": [
    "SpikeAccommodationTestBurtonUrban2014(rb).generate_prediction(model)"
   ]
  },
  {
   "cell_type": "code",
   "execution_count": 7,
   "metadata": {},
   "outputs": [
    {
     "data": {
      "image/png": "[encoded data removed]",
      "text/plain": [
       "<Figure size 432x288 with 1 Axes>"
      ]
     },
     "metadata": {},
     "output_type": "display_data"
    },
    {
     "data": {
      "text/plain": [
       "array(0.01512144) * dimensionless"
      ]
     },
     "execution_count": 7,
     "metadata": {},
     "output_type": "execute_result"
    }
   ],
   "source": [
    "ISICVTestBurtonUrban2014(rb).generate_prediction(model)"
   ]
  },
  {
   "cell_type": "code",
   "execution_count": 8,
   "metadata": {},
   "outputs": [
    {
     "data": {
      "image/png": "[encoded data removed]",
      "text/plain": [
       "<Figure size 432x288 with 1 Axes>"
      ]
     },
     "metadata": {},
     "output_type": "display_data"
    }
   ],
   "source": [
    "rb = RheobaseTestYu2015().generate_prediction(model)"
   ]
  },
  {
   "cell_type": "code",
   "execution_count": 9,
   "metadata": {},
   "outputs": [
    {
     "data": {
      "image/png": "[encoded data removed]",
      "text/plain": [
       "<Figure size 432x288 with 1 Axes>"
      ]
     },
     "metadata": {},
     "output_type": "display_data"
    },
    {
     "data": {
      "text/plain": [
       "array(0.03380356) * dimensionless"
      ]
     },
     "execution_count": 9,
     "metadata": {},
     "output_type": "execute_result"
    }
   ],
   "source": [
    "ISICVTestYu2015(rb).generate_prediction(model)"
   ]
  },
  {
   "cell_type": "code",
   "execution_count": 10,
   "metadata": {},
   "outputs": [
    {
     "ename": "ZeroDivisionError",
     "evalue": "integer division or modulo by zero",
     "output_type": "error",
     "traceback": [
      "\u001b[0;31m---------------------------------------------------------------------------\u001b[0m",
      "\u001b[0;31mZeroDivisionError\u001b[0m                         Traceback (most recent call last)",
      "\u001b[0;32m<ipython-input-10-9ab73e148374>\u001b[0m in \u001b[0;36m<module>\u001b[0;34m()\u001b[0m\n\u001b[0;32m----> 1\u001b[0;31m \u001b[0;36m0\u001b[0m\u001b[0;34m/\u001b[0m\u001b[0;36m0\u001b[0m\u001b[0;34m\u001b[0m\u001b[0m\n\u001b[0m",
      "\u001b[0;31mZeroDivisionError\u001b[0m: integer division or modulo by zero"
     ]
    },
    {
     "name": "stdout",
     "output_type": "stream",
     "text": [
      "\t-51.306471 \n"
     ]
    }
   ],
   "source": [
    "0/0"
   ]
  },
  {
   "cell_type": "code",
   "execution_count": null,
   "metadata": {},
   "outputs": [],
   "source": [
    "ReboundSpikingTestBurtonUrban2014().generate_prediction(model)"
   ]
  },
  {
   "cell_type": "code",
   "execution_count": null,
   "metadata": {},
   "outputs": [],
   "source": [
    "ReboundSpikingTestJohnsonDelaney2010().generate_prediction(model)"
   ]
  },
  {
   "cell_type": "code",
   "execution_count": null,
   "metadata": {},
   "outputs": [],
   "source": [
    "rb = RheobaseTestBurtonUrban2014().generate_prediction(model)\n",
    "rb"
   ]
  },
  {
   "cell_type": "code",
   "execution_count": null,
   "metadata": {},
   "outputs": [],
   "source": [
    "voltage = model.inject_square_current({\"delay\": 1000*pq.ms,\"duration\": 2000*pq.ms, \"amplitude\": rb})"
   ]
  },
  {
   "cell_type": "code",
   "execution_count": null,
   "metadata": {},
   "outputs": [],
   "source": [
    "plt.plot(voltage)"
   ]
  },
  {
   "cell_type": "code",
   "execution_count": null,
   "metadata": {},
   "outputs": [],
   "source": [
    "voltage.magnitude[np.where(voltage.times > 1000*pq.ms)]"
   ]
  },
  {
   "cell_type": "code",
   "execution_count": null,
   "metadata": {},
   "outputs": [],
   "source": [
    "rb = 0.02438782 * pq.nA"
   ]
  },
  {
   "cell_type": "code",
   "execution_count": null,
   "metadata": {},
   "outputs": [],
   "source": [
    "# %matplotlib notebook\n",
    "# %matplotlib notebook\n",
    "# %matplotlib notebook\n",
    "# %matplotlib notebook"
   ]
  },
  {
   "cell_type": "code",
   "execution_count": null,
   "metadata": {},
   "outputs": [],
   "source": [
    "rb = RheobaseTestYu2015().generate_prediction(model)\n",
    "rb"
   ]
  },
  {
   "cell_type": "code",
   "execution_count": null,
   "metadata": {},
   "outputs": [],
   "source": [
    "SagVoltageTestAngelo2012().generate_prediction(model)\n",
    "SagVoltageTestBurtonUrban2014().generate_prediction(model)\n",
    "SagVoltageTestYu2015().generate_prediction(model)\n",
    "SagVoltageTestHu2016().generate_prediction(model)"
   ]
  },
  {
   "cell_type": "code",
   "execution_count": null,
   "metadata": {},
   "outputs": [],
   "source": [
    "AfterHyperpolarizationAmplitudeTestYu2015(rb).generate_prediction(model)"
   ]
  },
  {
   "cell_type": "code",
   "execution_count": null,
   "metadata": {},
   "outputs": [],
   "source": [
    "AfterHyperpolarizationTimeTestYu2015(rb).generate_prediction(model)"
   ]
  },
  {
   "cell_type": "code",
   "execution_count": null,
   "metadata": {},
   "outputs": [],
   "source": [
    "AfterHyperpolarizationAmplitudeTestBurtonUrban2014(rb).generate_prediction(model)"
   ]
  },
  {
   "cell_type": "code",
   "execution_count": null,
   "metadata": {},
   "outputs": [],
   "source": [
    "AfterHyperpolarizationTimeTestBurtonUrban2014(rb).generate_prediction(model)"
   ]
  },
  {
   "cell_type": "code",
   "execution_count": null,
   "metadata": {},
   "outputs": [],
   "source": [
    "1/0"
   ]
  },
  {
   "cell_type": "code",
   "execution_count": null,
   "metadata": {},
   "outputs": [],
   "source": [
    "from matplotlib import pyplot as plt\n",
    "import numpy as np\n",
    "\n",
    "v = aps[0]\n",
    "plt.plot(v[\"voltage\"])\n",
    "#plt.plot(v3_z[0:get_zero_crossings(v3_z)[0]+1])\n",
    "#plt.xlim((0,80))\n",
    "plt.show()"
   ]
  },
  {
   "cell_type": "code",
   "execution_count": null,
   "metadata": {},
   "outputs": [],
   "source": [
    "test1 = SagVoltageTestAngelo2012(observation={\"mean\":0*pq.mV, 'std':1*pq.mV,'n': 10})\n",
    "test2 = SagVoltageTestBurtonUrban2014(observation={\"mean\":0*pq.mV, 'std':1*pq.mV,'n': 10})\n",
    "test3 = SagVoltageTestYu2015(observation={\"mean\":0*pq.mV, 'std':1*pq.mV,'n': 10})\n",
    "test4 = SagVoltageTestHu2016(observation={\"mean\":0*pq.mV, 'std':1*pq.mV,'n': 10})\n",
    "\n",
    "#suite = test1 \n",
    "suite = TestSuite(tests=[test1,test2,test3,test4])"
   ]
  },
  {
   "cell_type": "code",
   "execution_count": null,
   "metadata": {},
   "outputs": [],
   "source": [
    "suite.judge(model)"
   ]
  },
  {
   "cell_type": "code",
   "execution_count": null,
   "metadata": {},
   "outputs": [],
   "source": []
  }
 ],
 "metadata": {
  "kernelspec": {
   "display_name": "Python 2",
   "language": "python",
   "name": "python2"
  },
  "language_info": {
   "codemirror_mode": {
    "name": "ipython",
    "version": 2
   },
   "file_extension": ".py",
   "mimetype": "text/x-python",
   "name": "python",
   "nbconvert_exporter": "python",
   "pygments_lexer": "ipython2",
   "version": "2.7.14"
  }
 },
 "nbformat": 4,
 "nbformat_minor": 2
}
