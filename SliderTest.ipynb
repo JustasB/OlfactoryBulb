{
 "cells": [
  {
   "cell_type": "code",
   "execution_count": 1,
   "metadata": {},
   "outputs": [],
   "source": [
    "import numpy as np\n",
    "from __future__ import print_function\n",
    "from ipywidgets import interact, interactive, fixed, interact_manual\n",
    "import ipywidgets as widgets\n",
    "from ipywidgets import FloatSlider"
   ]
  },
  {
   "cell_type": "code",
   "execution_count": 2,
   "metadata": {},
   "outputs": [],
   "source": [
    "from prev_ob_models.Birgiolas2020.isolated_cells import MC"
   ]
  },
  {
   "cell_type": "code",
   "execution_count": 3,
   "metadata": {},
   "outputs": [],
   "source": [
    "mc = MC()\n",
    "\n",
    "soma = mc.soma"
   ]
  },
  {
   "cell_type": "code",
   "execution_count": 4,
   "metadata": {},
   "outputs": [
    {
     "data": {
      "text/plain": [
       "1.0"
      ]
     },
     "execution_count": 4,
     "metadata": {},
     "output_type": "execute_result"
    }
   ],
   "source": [
    "from neuron import h\n",
    "\n",
    "all_sec = h.SectionList()\n",
    "all_sec = h.allsec()\n",
    "\n",
    "vec = h.Vector()\n",
    "vec.record(mc.soma(0.5)._ref_v)\n",
    "\n",
    "h.cvode_active(1)\n",
    "\n"
   ]
  },
  {
   "cell_type": "code",
   "execution_count": 22,
   "metadata": {},
   "outputs": [],
   "source": [
    "def evaluate(Ra, cm, ena, ek, gbar_na, gbar_kd, g_pas, e_pas, gkhbar_Ih, celsius):   \n",
    "    for soma in all_sec:\n",
    "        soma.Ra = Ra\n",
    "        soma.cm = cm\n",
    "        soma.ena = ena\n",
    "        soma.ek = ek\n",
    "        soma.gbar_na = gbar_na\n",
    "        soma.gbar_kd = gbar_kd\n",
    "        soma.g_pas = g_pas / 1000000.0\n",
    "        soma.e_pas = e_pas\n",
    "        soma.gkhbar_Ih = gkhbar_Ih*1e-7\n",
    "        \n",
    "    h.celsius = celsius\n",
    "    h.run()\n",
    "    return soma(0.5).v, np.min(vec.as_numpy())-soma(0.5).v"
   ]
  },
  {
   "cell_type": "code",
   "execution_count": 26,
   "metadata": {
    "scrolled": false
   },
   "outputs": [
    {
     "data": {
      "application/vnd.jupyter.widget-view+json": {
       "model_id": "c558fbf0daff40129c667ff3212a8b75",
       "version_major": 2,
       "version_minor": 0
      },
      "text/plain": [
       "aW50ZXJhY3RpdmUoY2hpbGRyZW49KEZsb2F0U2xpZGVyKHZhbHVlPTcwLjAsIGNvbnRpbnVvdXNfdXBkYXRlPUZhbHNlLCBkZXNjcmlwdGlvbj11J1JhJywgbWluPTcwLjAsIHN0ZXA9MS4wKSzigKY=\n"
      ]
     },
     "metadata": {},
     "output_type": "display_data"
    }
   ],
   "source": [
    "interact(evaluate, \n",
    "         Ra = FloatSlider(value=70, min=70, max=100, step=1, continuous_update=False), \n",
    "         cm = FloatSlider(value=1.2, min=0.5, max=4, step=0.1, continuous_update=False), \n",
    "         ena = FloatSlider(value=60, min=45, max=50, step=1, continuous_update=False), \n",
    "         ek = FloatSlider(value=-90, min=-90, max=-70, step=1, continuous_update=False), \n",
    "         gbar_na = FloatSlider(value=1000, min=0, max=1000, step=0.1, continuous_update=False), \n",
    "         gbar_kd = FloatSlider(value=104, min=50, max=100, step=0.001, continuous_update=False, readout_format='.5f'), \n",
    "         g_pas = FloatSlider(value=50, min=1, max=1000, step=0.1, continuous_update=False, readout_format='.3f'), \n",
    "         e_pas = FloatSlider(value=-65, min=-70, max=-50, step=1, continuous_update=False), \n",
    "         gkhbar_Ih = FloatSlider(value=10, min=0, max=100, step=0.1, continuous_update=False, readout_format='.7f'), \n",
    "         celsius = FloatSlider(value=35, min=6.3, max=36.3, step=1, continuous_update=False), \n",
    "        );"
   ]
  },
  {
   "cell_type": "code",
   "execution_count": 81,
   "metadata": {
    "scrolled": true
   },
   "outputs": [
    {
     "data": {
      "text/plain": [
       "array([-65.        , -65.03531565, -65.08835867, -65.17608442,\n",
       "       -65.26309236, -65.44850901, -65.6257006 , -65.79269504,\n",
       "       -65.94995805, -66.09668392, -66.23246157, -66.35757608,\n",
       "       -66.54989378, -66.71963726, -66.87016366, -67.00341137,\n",
       "       -67.12328204, -67.22734217, -67.32124802, -67.40293059,\n",
       "       -67.47826971, -67.54356015, -67.60467721, -67.65693231,\n",
       "       -67.70682478, -67.74878817, -67.7899206 , -67.82368778,\n",
       "       -67.85787187, -67.88499531, -67.91362767, -67.93532568,\n",
       "       -67.95665257, -67.97439517, -67.99278272, -68.00827894,\n",
       "       -68.02430315, -68.03686962, -68.04989847, -68.05978713,\n",
       "       -68.07052549, -68.07839096, -68.08729333, -68.09348153,\n",
       "       -68.10086993, -68.10570227, -68.11187502, -68.11561711,\n",
       "       -68.12080511, -68.12366372, -68.12805238, -68.13019628,\n",
       "       -68.13258207, -68.13447378, -68.13663443, -68.13860664,\n",
       "       -68.14199159, -68.14738518, -68.15116399, -68.15372229,\n",
       "       -68.15590296, -68.15692624, -68.15795141, -68.15836368,\n",
       "       -68.1585199 , -68.1589631 , -68.15922766, -68.15911363,\n",
       "       -68.15946088, -68.15854088, -68.15908916, -68.15854288,\n",
       "       -68.15932257, -68.15878634, -68.15936023, -68.15876835,\n",
       "       -68.15931169, -68.15878547, -68.15930437, -68.15880497,\n",
       "       -68.15928651, -68.15881832, -68.15927182, -68.15883335,\n",
       "       -68.15925827, -68.15884665, -68.15924517, -68.15885924,\n",
       "       -68.15923306, -68.15887108, -68.15922165, -68.15950647,\n",
       "       -68.1590248 , -68.15998452, -68.16013458, -68.1611738 ,\n",
       "       -68.16166005, -68.16085035, -68.16043486, -68.15943199,\n",
       "       -68.15964731, -68.1588817 , -68.15931865, -68.15872209,\n",
       "       -68.15939762, -68.1587173 , -68.15941771, -68.15864319,\n",
       "       -68.1594622 , -68.15859738, -68.1595155 , -68.15853454,\n",
       "       -68.15957437, -68.15846768, -68.15964119, -68.15838979,\n",
       "       -68.15971574, -68.15830214, -68.15979976, -68.15820217,\n",
       "       -68.15764116, -68.15574997, -68.15469405, -68.15443501,\n",
       "       -68.15533632, -68.15680004, -68.15744996, -68.15938883,\n",
       "       -68.15965104, -68.16089885, -68.16121899, -68.16140146,\n",
       "       -68.16066756, -68.16029653, -68.15945332, -68.15909066,\n",
       "       -68.15902767, -68.15877845, -68.15874915, -68.15903461,\n",
       "       -68.15872495, -68.15924103, -68.15876461, -68.15935216,\n",
       "       -68.15872845, -68.15941427, -68.15864494, -68.15949179,\n",
       "       -68.15855823, -68.15848336, -68.15810673, -68.15848506,\n",
       "       -68.15896276, -68.15947233, -68.15978769, -68.15962503,\n",
       "       -68.15936927, -68.15907152, -68.15869096, -68.15849133,\n",
       "       -68.15908018, -68.1587418 , -68.15939369, -68.15884032,\n",
       "       -68.15887188])"
      ]
     },
     "execution_count": 81,
     "metadata": {},
     "output_type": "execute_result"
    }
   ],
   "source": []
  },
  {
   "cell_type": "code",
   "execution_count": null,
   "metadata": {},
   "outputs": [],
   "source": []
  }
 ],
 "metadata": {
  "kernelspec": {
   "display_name": "Python 2",
   "language": "python",
   "name": "python2"
  },
  "language_info": {
   "codemirror_mode": {
    "name": "ipython",
    "version": 2
   },
   "file_extension": ".py",
   "mimetype": "text/x-python",
   "name": "python",
   "nbconvert_exporter": "python",
   "pygments_lexer": "ipython2",
   "version": "2.7.14"
  }
 },
 "nbformat": 4,
 "nbformat_minor": 2
}
