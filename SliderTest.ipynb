{
 "cells": [
  {
   "cell_type": "code",
   "execution_count": 1,
   "metadata": {},
   "outputs": [],
   "source": [
    "import numpy as np\n",
    "from __future__ import print_function\n",
    "from ipywidgets import interact, interactive, fixed, interact_manual\n",
    "import ipywidgets as widgets\n",
    "from ipywidgets import FloatSlider"
   ]
  },
  {
   "cell_type": "code",
   "execution_count": 2,
   "metadata": {},
   "outputs": [],
   "source": [
    "from prev_ob_models.Birgiolas2020.isolated_cells import MC"
   ]
  },
  {
   "cell_type": "code",
   "execution_count": 3,
   "metadata": {},
   "outputs": [],
   "source": [
    "mc = MC()"
   ]
  },
  {
   "cell_type": "code",
   "execution_count": 4,
   "metadata": {},
   "outputs": [],
   "source": [
    "from neuron import h\n",
    "\n",
    "vec = h.Vector()\n",
    "vec.record(mc.cell.soma(0.5)._ref_v, 0.5)\n",
    "\n",
    "\n",
    "h.tstop = 10000\n",
    "\n",
    "#h.newPlotV()"
   ]
  },
  {
   "cell_type": "code",
   "execution_count": 5,
   "metadata": {},
   "outputs": [],
   "source": [
    "ic = h.IClamp(mc.cell.soma(0.5))\n",
    "ic2 = h.IClamp(mc.cell.soma(0.5))\n",
    "ic3 = h.IClamp(mc.cell.soma(0.5))"
   ]
  },
  {
   "cell_type": "code",
   "execution_count": 6,
   "metadata": {},
   "outputs": [],
   "source": [
    "ic.delay = 1000\n",
    "ic.dur = 2000\n",
    "ic.amp = -0.1\n",
    "\n",
    "\n",
    "ic2.delay = 4000\n",
    "ic2.dur = 2000\n",
    "ic2.amp = 0.111\n",
    "\n",
    "\n",
    "ic3.delay = 7000\n",
    "ic3.dur = 2000\n",
    "ic3.amp = 0.111*2"
   ]
  },
  {
   "cell_type": "code",
   "execution_count": 7,
   "metadata": {},
   "outputs": [],
   "source": [
    "params = [    \n",
    "    { \"start\": 34.77,  \"attr\": \"Ra\",        \"low\": 5.0, \"high\": 100.0, \"lists\": [\"all\"] },\n",
    "    { \"start\": 2.706,   \"attr\": \"cm\",        \"low\": 0.1, \"high\": 4.0, \"lists\": [\"all\"] },\n",
    "    { \"start\": 49.95,  \"attr\": \"ena\",       \"low\": 40.0, \"high\": 50.0, \"lists\": [\"all\"] },\n",
    "    { \"start\": -70.03,  \"attr\": \"ek\",        \"low\": -100.0, \"high\": -70.0, \"lists\": [\"all\"] },\n",
    "    { \"start\": -64.42,  \"attr\": \"e_pas\",     \"low\": -70.0, \"high\": -50.0, \"lists\": [\"all\"] },\n",
    "    { \"start\": 0.0005955, \"attr\": \"g_pas\",     \"low\": 0, \"high\": 0.00003, \"lists\": [\"all\"] },    \n",
    "    { \"start\": 0.5955,  \"attr\": \"sh_Na\",     \"low\": 0, \"high\": 10, \"lists\": [\"all\"] },    \n",
    "    { \"start\": 10,  \"attr\": \"tau_CaPool\",     \"low\": 1, \"high\": 500, \"lists\": [\"all\"] },    \n",
    "\n",
    "    { \"start\":  0.87485,  \"attr\": \"gbar_Na\",     \"low\": 0, \"high\": 0.05, \"lists\": [\"all\"] },\n",
    "    { \"start\": 0.0297,  \"attr\": \"gbar_Kd\",     \"low\": 0, \"high\": 0.04, \"lists\": [\"all\"] },\n",
    "    { \"start\": 0.000264,  \"attr\": \"gbar_Kslow\",  \"low\": 0, \"high\": 0.004, \"lists\": [\"all\"] },\n",
    "    { \"start\": 0.07215,  \"attr\": \"gbar_KA\",     \"low\": 0, \"high\": 0.005, \"lists\": [\"all\"] },\n",
    "    { \"start\": 0.001,  \"attr\": \"gbar_KCa\",    \"low\": 0, \"high\": 0.004, \"lists\": [\"all\"] },\n",
    "    { \"start\": 0.00081441,  \"attr\": \"gbar_LCa\",  \"low\": 0, \"high\": 0.001, \"lists\": [\"all\"] },\n",
    "    \n",
    "    { \"start\": -30.805,  \"attr\": \"eh\",       \"low\": -40.0, \"high\": -25.0, \"lists\": [\"apical\"] },\n",
    "    { \"start\": 0.00335,  \"attr\": \"gbar_Ih\",    \"low\": 0, \"high\": 0.00003, \"lists\": [\"apical\"] },\n",
    "    { \"start\": 0.000107,  \"attr\": \"gbar_CaT\",    \"low\": 0, \"high\": 18e-3, \"lists\": [\"apical\"] },\n",
    "]"
   ]
  },
  {
   "cell_type": "code",
   "execution_count": 8,
   "metadata": {},
   "outputs": [],
   "source": [
    "best = [55.1610864800591,\n",
    " 1.2011223808544307,\n",
    " 45.858152596044036,\n",
    " -89.54201113602845,\n",
    " -65.69659324803041,\n",
    " 1.373134023516298e-05,\n",
    " 0.4579888639715568,\n",
    " 2.203808438053512,\n",
    " 0.02289944319857784,\n",
    " 0.02183966039456448,\n",
    " 0.0018319554558862273,\n",
    " 0.0022899443198577843,\n",
    " 0.0021340101963085055,\n",
    " 0.0026953214448517935,\n",
    " -36.92224642477413,\n",
    " 0.00010991732735317362,\n",
    " 0.005630666540928916]\n",
    "\n",
    "best = [36.733224907230976,\n",
    " 1.218757975793375,\n",
    " 42.86861019434199,\n",
    " -75.90029648025586,\n",
    " -64.26277961131602,\n",
    " 1.2947334242010801e-05,\n",
    " 0.29153326073896313,\n",
    " 206.14023477532092,\n",
    " 0.014343050971709938,\n",
    " 0.022928918544327836,\n",
    " 0.00020464235583769514,\n",
    " 0.0029193616564435116,\n",
    " 0.001147444077736795,\n",
    " 6.314491456148351e-05,\n",
    " -35.69708470848702,\n",
    " 5.9204949172227345e-06,\n",
    " 0.0051634983498155766]\n",
    "\n",
    "best = [13.021558319332806,\n",
    " 0.1421244817119445,\n",
    " 46.8584157330876,\n",
    " -93.26652964252163,\n",
    " -56.87131277268493,\n",
    " 2.4402946120574333e-05,\n",
    " 4.58994085936241,\n",
    " 12.492102024675049,\n",
    " 0.0137369123653096,\n",
    " 0.012076032916784003,\n",
    " 0.001009786028927451,\n",
    " 0.001969382122174609,\n",
    " 0.0006458839218994715,\n",
    " 0.0007132677073125959,\n",
    " -29.718414466812085,\n",
    " 1.1532769221682631e-05,\n",
    " 0.0038349927360426094]\n",
    "\n",
    "for i, p in enumerate(params):\n",
    "    params[i][\"start\"] = best[i]"
   ]
  },
  {
   "cell_type": "code",
   "execution_count": 9,
   "metadata": {},
   "outputs": [],
   "source": [
    "kwargs = {}\n",
    "for pi, pv in enumerate(params):\n",
    "    #print(pv[\"attr\"])\n",
    "    kwargs[pv[\"attr\"]+\"|\"+str(pv[\"lists\"])] = FloatSlider(\n",
    "        value=pv[\"start\"],\n",
    "        min=pv[\"low\"],\n",
    "        max=pv[\"high\"],\n",
    "        step=(pv[\"high\"]-pv[\"low\"])/100.0,\n",
    "        continuous_update=False,\n",
    "        readout_format='.9f',\n",
    "        description=(pv[\"attr\"]+\"|\"+str(pv[\"lists\"][0])).replace(\"gbar_\",\"g\")\n",
    "    )\n",
    "#kwargs"
   ]
  },
  {
   "cell_type": "code",
   "execution_count": 10,
   "metadata": {},
   "outputs": [],
   "source": [
    "def evaluate(**kwargs):   \n",
    "    param_keys = kwargs.keys()\n",
    "    \n",
    "    for key in param_keys:\n",
    "        attr = key.split(\"|\")[0]\n",
    "        lists = eval(key.split(\"|\")[1])\n",
    "        \n",
    "        for param_list in lists:\n",
    "            for sec in getattr(mc.cell, param_list):\n",
    "                if attr == \"tau_CaPool\":\n",
    "                    setattr(h, attr, kwargs[key])\n",
    "                else:\n",
    "                    setattr(sec, attr, kwargs[key])\n",
    "        \n",
    "    h.run()\n",
    "    \n",
    "    from matplotlib import pyplot as plt\n",
    "    plt.plot(vec.as_numpy())\n",
    "    plt.show()\n",
    "    \n",
    "    return mc.cell.soma(0.5).v"
   ]
  },
  {
   "cell_type": "code",
   "execution_count": null,
   "metadata": {},
   "outputs": [],
   "source": []
  },
  {
   "cell_type": "code",
   "execution_count": 11,
   "metadata": {},
   "outputs": [
    {
     "data": {
      "application/vnd.jupyter.widget-view+json": {
       "model_id": "38f568e7ee8e4c60b3f6e844123eaf2f",
       "version_major": 2,
       "version_minor": 0
      },
      "text/plain": [
       "aW50ZXJhY3RpdmUoY2hpbGRyZW49KEZsb2F0U2xpZGVyKHZhbHVlPTQ2Ljg1ODQxNTczMzA4NzYsIGNvbnRpbnVvdXNfdXBkYXRlPUZhbHNlLCBkZXNjcmlwdGlvbj11J2VuYXxhbGwnLCBtYXjigKY=\n"
      ]
     },
     "metadata": {},
     "output_type": "display_data"
    }
   ],
   "source": [
    "interact(evaluate, **kwargs);"
   ]
  },
  {
   "cell_type": "code",
   "execution_count": 12,
   "metadata": {},
   "outputs": [],
   "source": [
    "from neuron import gui"
   ]
  },
  {
   "cell_type": "code",
   "execution_count": null,
   "metadata": {},
   "outputs": [],
   "source": []
  }
 ],
 "metadata": {
  "kernelspec": {
   "display_name": "Python 2",
   "language": "python",
   "name": "python2"
  },
  "language_info": {
   "codemirror_mode": {
    "name": "ipython",
    "version": 2
   },
   "file_extension": ".py",
   "mimetype": "text/x-python",
   "name": "python",
   "nbconvert_exporter": "python",
   "pygments_lexer": "ipython2",
   "version": "2.7.14"
  }
 },
 "nbformat": 4,
 "nbformat_minor": 2
}
