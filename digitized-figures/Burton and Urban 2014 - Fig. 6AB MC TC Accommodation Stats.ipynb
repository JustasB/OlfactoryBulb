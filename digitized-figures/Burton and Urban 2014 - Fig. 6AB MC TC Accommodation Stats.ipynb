{
 "cells": [
  {
   "cell_type": "code",
   "execution_count": 27,
   "metadata": {},
   "outputs": [],
   "source": [
    "import numpy as np\n",
    "from matplotlib import pyplot as plt\n",
    "import csv\n",
    "from numpy import genfromtxt\n",
    "import quantities as pq"
   ]
  },
  {
   "cell_type": "code",
   "execution_count": 28,
   "metadata": {},
   "outputs": [],
   "source": [
    "def get_rows(file):\n",
    "    my_data = genfromtxt(file,delimiter=',',skip_header=1)\n",
    "\n",
    "    times,cells = np.array(zip(*my_data))\n",
    "    times = times * pq.ms\n",
    "    \n",
    "    rows = []\n",
    "    for cell in set(cells):\n",
    "       rows.append(times[np.where(cells == cell)]) \n",
    "    return rows\n",
    "\n",
    "mc_rows = get_rows(file = 'Urban Burton 2014 6A mc-points.csv')\n",
    "tc_rows = get_rows(file = 'Urban Burton 2014 6B tc-points.csv')"
   ]
  },
  {
   "cell_type": "code",
   "execution_count": 40,
   "metadata": {},
   "outputs": [
    {
     "name": "stdout",
     "output_type": "stream",
     "text": [
      "('MC IFR change First-Last Hz', (-9.432831837722242, 17.832782181869668, 35))\n",
      "('TC IFR change First-Last Hz', (-20.20968657857211, 19.09576221239726, 28))\n"
     ]
    },
    {
     "data": {
      "image/png": "[encoded data removed]",
      "text/plain": [
       "<Figure size 432x288 with 1 Axes>"
      ]
     },
     "metadata": {},
     "output_type": "display_data"
    }
   ],
   "source": [
    "def get_IFR_changes(rows):\n",
    "    ifr_changes = []\n",
    "\n",
    "    for times in rows:\n",
    "        #times = mc_rows[-0]\n",
    "        isis = np.diff(times)\n",
    "        ifrs = 1.0/isis\n",
    "        ifrs.units = pq.Hz\n",
    "        ifr_times = times[1:]\n",
    "        ifr_change = ifrs[-1] - ifrs[0]\n",
    "\n",
    "    #     plt.plot(ifr_times, ifrs)\n",
    "    #     print(ifrs)\n",
    "    #     print(ifr_change)\n",
    "\n",
    "        ifr_changes.append(ifr_change)\n",
    "\n",
    "    plt.hist(ifr_changes)\n",
    "    return (np.mean(ifr_changes), np.std(ifr_changes), len(ifr_changes))\n",
    "    \n",
    "print('MC IFR change First-Last Hz', get_IFR_changes(mc_rows))\n",
    "print('TC IFR change First-Last Hz', get_IFR_changes(tc_rows))\n"
   ]
  },
  {
   "cell_type": "code",
   "execution_count": 68,
   "metadata": {},
   "outputs": [
    {
     "name": "stdout",
     "output_type": "stream",
     "text": [
      "('MC IFR Time constants', (398.58430799332217, 562.0434206729059, 35))\n",
      "('TC IFR Time constants', (585.6785638611162, 664.713044151611, 28))\n"
     ]
    },
    {
     "data": {
      "image/png": "[encoded data removed]",
      "text/plain": [
       "<Figure size 432x288 with 1 Axes>"
      ]
     },
     "metadata": {},
     "output_type": "display_data"
    }
   ],
   "source": [
    "def get_IFR_taus(rows):\n",
    "    taus = []\n",
    "    for times in rows:\n",
    "        isis = np.diff(times)\n",
    "        ifrs = 1.0/isis\n",
    "        ifrs.units = pq.Hz\n",
    "        ifrs = ifrs.magnitude\n",
    "\n",
    "        ifr_times = times[1:]\n",
    "        ifr_times = ifr_times - ifr_times[0]\n",
    "        ifr_times = ifr_times.magnitude\n",
    "\n",
    "        def ifr_func(t, start, finish, tau):\n",
    "            return (start - finish) *np.exp(-t / tau) + finish\n",
    "\n",
    "        from lmfit import Model\n",
    "\n",
    "        model = Model(ifr_func)\n",
    "        params = model.make_params(start=ifrs[0], finish=ifrs[-1], tau=10.0)\n",
    "\n",
    "        params['tau'].min = 0\n",
    "        params['tau'].max = np.max(ifr_times)\n",
    "        result = model.fit(ifrs, t=ifr_times, params=params)\n",
    "\n",
    "        start = result.best_values[\"start\"]\n",
    "        finish = result.best_values[\"finish\"]\n",
    "        tau = result.best_values[\"tau\"]\n",
    "\n",
    "        #plt.plot(ifr_times, ifrs, 'bo')\n",
    "        #plt.plot(ifr_times, result.best_fit, 'r-')\n",
    "        #plt.show()\n",
    "        \n",
    "        taus.append(tau)\n",
    "    \n",
    "    plt.hist(taus)\n",
    "    return np.mean(taus), np.std(taus), len(taus)\n",
    "\n",
    "print('MC IFR Time constants', get_IFR_taus(mc_rows))\n",
    "print('TC IFR Time constants', get_IFR_taus(tc_rows))"
   ]
  },
  {
   "cell_type": "code",
   "execution_count": null,
   "metadata": {},
   "outputs": [],
   "source": []
  }
 ],
 "metadata": {
  "kernelspec": {
   "display_name": "Python 2",
   "language": "python",
   "name": "python2"
  },
  "language_info": {
   "codemirror_mode": {
    "name": "ipython",
    "version": 2
   },
   "file_extension": ".py",
   "mimetype": "text/x-python",
   "name": "python",
   "nbconvert_exporter": "python",
   "pygments_lexer": "ipython2",
   "version": "2.7.14"
  }
 },
 "nbformat": 4,
 "nbformat_minor": 2
}
